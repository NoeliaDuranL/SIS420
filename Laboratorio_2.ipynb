{
  "nbformat": 4,
  "nbformat_minor": 0,
  "metadata": {
    "colab": {
      "provenance": [],
      "mount_file_id": "1q8nH9lYzfkf4zRv0NBUJQ_OtFhog1p79",
      "authorship_tag": "ABX9TyNgYq1tq64zoob8cyNi7z8y",
      "include_colab_link": true
    },
    "kernelspec": {
      "name": "python3",
      "display_name": "Python 3"
    },
    "language_info": {
      "name": "python"
    }
  },
  "cells": [
    {
      "cell_type": "markdown",
      "metadata": {
        "id": "view-in-github",
        "colab_type": "text"
      },
      "source": [
        "<a href=\"https://colab.research.google.com/github/NoeliaDuranL/SIS420/blob/main/Laboratorio_2.ipynb\" target=\"_parent\"><img src=\"https://colab.research.google.com/assets/colab-badge.svg\" alt=\"Open In Colab\"/></a>"
      ]
    },
    {
      "cell_type": "markdown",
      "source": [
        "# LABORATORIO 2 - Duran Llaveta Noelia Paola (Grupo 2)"
      ],
      "metadata": {
        "id": "hyrS387qnK6e"
      }
    },
    {
      "cell_type": "markdown",
      "source": [
        "Para la implementación de la regresión logística se usó el dataset \"Phising Dataset\". Este conjunto de datos ofrece información crucial para detectar y analizar dominios de phishing integrados en las URL. Abarca una amplia gama de funciones extraídas de las URL, lo que refuerza significativamente la capacidad de descubrir posibles intentos de phishing.\n",
        "\n",
        "Énlace: https://www.kaggle.com/datasets/simaanjali/tes-upload\n"
      ],
      "metadata": {
        "id": "BL3SUnL5nglD"
      }
    },
    {
      "cell_type": "markdown",
      "source": [
        "# Procesamiento de datos\n"
      ],
      "metadata": {
        "id": "9LQbOTr0nC7P"
      }
    },
    {
      "cell_type": "markdown",
      "source": [
        "Dado que la \"y\" a usar no está con 0 y 1 sino que con 0.0 y 1.0 se usó la librería pandas para procesar la \"y\"(en este caso la columna llamada Phising) y corregir esos valores, además de elimar todas las filas donde \"Phising\" sea Nan."
      ],
      "metadata": {
        "id": "5tFgpNkJnIST"
      }
    },
    {
      "cell_type": "code",
      "execution_count": null,
      "metadata": {
        "id": "VSADXodLlIZw"
      },
      "outputs": [],
      "source": [
        "import pandas as pd"
      ]
    },
    {
      "cell_type": "code",
      "source": [
        "# Leer datos\n",
        "df = pd.read_csv('/content/drive/MyDrive/SIS420/datasets/Phising_dataset_predict.csv', delimiter=',')"
      ],
      "metadata": {
        "id": "b79wQLFYlPid"
      },
      "execution_count": null,
      "outputs": []
    },
    {
      "cell_type": "code",
      "source": [
        "# Verifica los valores únicos en la columna 'Phishing'\n",
        "unique_values = df['Phising'].unique()\n",
        "\n",
        "# Encuentra los valores que no son ni 1.0 ni 0.0\n",
        "other_values = set(unique_values) - {1.0, 0.0}\n",
        "\n",
        "if other_values:\n",
        "    print(\"La columna 'Phising' contiene otros valores además de 1.0 y 0.0:\")\n",
        "    for value in other_values:\n",
        "        print(value)\n",
        "else:\n",
        "    print(\"La columna 'Phising' solo contiene valores de 1.0 y 0.0.\")"
      ],
      "metadata": {
        "colab": {
          "base_uri": "https://localhost:8080/"
        },
        "id": "0D6GUIS7lPk7",
        "outputId": "fd61d453-e342-4e21-f7b1-9ced2f7fd82f"
      },
      "execution_count": null,
      "outputs": [
        {
          "output_type": "stream",
          "name": "stdout",
          "text": [
            "La columna 'Phising' contiene otros valores además de 1.0 y 0.0:\n",
            "nan\n"
          ]
        }
      ]
    },
    {
      "cell_type": "code",
      "source": [
        "# Obtener la cantidad de datos no nulos en cada columna antes de eliminar NaN en 'Phising'\n",
        "column_counts_before = df.count()\n",
        "\n",
        "# Imprimir la cantidad de datos en cada columna antes de eliminar NaN en 'Phising'\n",
        "print(\"Cantidad de datos en cada columna antes de eliminar NaN en 'Phising':\")\n",
        "print(column_counts_before)"
      ],
      "metadata": {
        "colab": {
          "base_uri": "https://localhost:8080/"
        },
        "id": "vXrxtgIUlPnj",
        "outputId": "e9b7591d-a43a-479b-9af9-65d4a8f3b319"
      },
      "execution_count": null,
      "outputs": [
        {
          "output_type": "stream",
          "name": "stdout",
          "text": [
            "Cantidad de datos en cada columna antes de eliminar NaN en 'Phising':\n",
            "Unnamed: 0            662591\n",
            "NumDots               662591\n",
            "UrlLength             662591\n",
            "AtSymbol              662591\n",
            "NumDash               662591\n",
            "NumPercent            662591\n",
            "NumQueryComponents    662591\n",
            "IpAddress             662591\n",
            "HttpsInHostname       662591\n",
            "PathLevel             662591\n",
            "PathLength            662591\n",
            "NumNumericChars       662591\n",
            "Phising               630071\n",
            "dtype: int64\n"
          ]
        }
      ]
    },
    {
      "cell_type": "code",
      "source": [
        "# Eliminar las filas donde 'Phising' es NaN\n",
        "df_cleaned = df.dropna(subset=['Phising'])\n",
        "\n",
        "# Verificar si quedan valores NaN en el DataFrame limpio\n",
        "print(\"Número de valores NaN después de eliminar:\", df_cleaned['Phising'].isna().sum())\n"
      ],
      "metadata": {
        "colab": {
          "base_uri": "https://localhost:8080/"
        },
        "id": "O4k74D_ZlPp6",
        "outputId": "5ec35436-4639-4442-e0ba-b3b5bf01ae8d"
      },
      "execution_count": null,
      "outputs": [
        {
          "output_type": "stream",
          "name": "stdout",
          "text": [
            "Número de valores NaN después de eliminar: 0\n"
          ]
        }
      ]
    },
    {
      "cell_type": "code",
      "source": [
        "# Obtener la cantidad de datos no nulos en cada columna después de eliminar NaN en 'Phising'\n",
        "column_counts_after = df_cleaned.count()\n",
        "\n",
        "# Imprimir la cantidad de datos en cada columna después de eliminar NaN en 'Phising'\n",
        "print(\"Cantidad de datos en cada columna después de eliminar NaN en 'Phising':\")\n",
        "print(column_counts_after)\n"
      ],
      "metadata": {
        "colab": {
          "base_uri": "https://localhost:8080/"
        },
        "id": "H4zBsiuelPsU",
        "outputId": "5df2f898-b8a4-4b77-ffd3-ca39f1f8eedf"
      },
      "execution_count": null,
      "outputs": [
        {
          "output_type": "stream",
          "name": "stdout",
          "text": [
            "Cantidad de datos en cada columna después de eliminar NaN en 'Phising':\n",
            "Unnamed: 0            630071\n",
            "NumDots               630071\n",
            "UrlLength             630071\n",
            "AtSymbol              630071\n",
            "NumDash               630071\n",
            "NumPercent            630071\n",
            "NumQueryComponents    630071\n",
            "IpAddress             630071\n",
            "HttpsInHostname       630071\n",
            "PathLevel             630071\n",
            "PathLength            630071\n",
            "NumNumericChars       630071\n",
            "Phising               630071\n",
            "dtype: int64\n"
          ]
        }
      ]
    },
    {
      "cell_type": "code",
      "source": [
        "# Convertir 1.0 a 1 y 0.0 a 0 en la columna 'Phising'\n",
        "df_cleaned['Phising'] = df_cleaned['Phising'].replace({1.0: 1, 0.0: 0})\n",
        "\n",
        "# Verificar los valores únicos después de la conversión\n",
        "print(\"Valores únicos en la columna 'Phising' después de la conversión:\")\n",
        "print(df_cleaned['Phising'].unique())"
      ],
      "metadata": {
        "colab": {
          "base_uri": "https://localhost:8080/"
        },
        "id": "fe8UG-UYlPuq",
        "outputId": "db2206cc-9a0a-4cff-8c10-c43950fddf80"
      },
      "execution_count": null,
      "outputs": [
        {
          "output_type": "stream",
          "name": "stdout",
          "text": [
            "Valores únicos en la columna 'Phising' después de la conversión:\n",
            "[1. 0.]\n"
          ]
        },
        {
          "output_type": "stream",
          "name": "stderr",
          "text": [
            "<ipython-input-155-7583e64c72d9>:2: SettingWithCopyWarning: \n",
            "A value is trying to be set on a copy of a slice from a DataFrame.\n",
            "Try using .loc[row_indexer,col_indexer] = value instead\n",
            "\n",
            "See the caveats in the documentation: https://pandas.pydata.org/pandas-docs/stable/user_guide/indexing.html#returning-a-view-versus-a-copy\n",
            "  df_cleaned['Phising'] = df_cleaned['Phising'].replace({1.0: 1, 0.0: 0})\n"
          ]
        }
      ]
    },
    {
      "cell_type": "code",
      "source": [
        "# Convertir 1.0 a 1 y 0.0 a 0 en la columna 'Phising'\n",
        "df_cleaned.loc[:, 'Phising'] = df_cleaned['Phising'].replace({1.0: 1, 0.0: 0})\n",
        "\n",
        "# Verificar los valores únicos después de la conversión\n",
        "print(\"Valores únicos en la columna 'Phising' después de la conversión:\")\n",
        "print(df_cleaned['Phising'].unique())"
      ],
      "metadata": {
        "colab": {
          "base_uri": "https://localhost:8080/"
        },
        "id": "gE_C_8SylQAK",
        "outputId": "1e271959-b4c6-4c43-8ead-588df245d0b4"
      },
      "execution_count": null,
      "outputs": [
        {
          "output_type": "stream",
          "name": "stdout",
          "text": [
            "Valores únicos en la columna 'Phising' después de la conversión:\n",
            "[1. 0.]\n"
          ]
        },
        {
          "output_type": "stream",
          "name": "stderr",
          "text": [
            "<ipython-input-156-dd4728147ffd>:2: SettingWithCopyWarning: \n",
            "A value is trying to be set on a copy of a slice from a DataFrame.\n",
            "Try using .loc[row_indexer,col_indexer] = value instead\n",
            "\n",
            "See the caveats in the documentation: https://pandas.pydata.org/pandas-docs/stable/user_guide/indexing.html#returning-a-view-versus-a-copy\n",
            "  df_cleaned.loc[:, 'Phising'] = df_cleaned['Phising'].replace({1.0: 1, 0.0: 0})\n"
          ]
        }
      ]
    },
    {
      "cell_type": "code",
      "source": [
        "# Imprimir las primeras filas del DataFrame\n",
        "print(df_cleaned.head())"
      ],
      "metadata": {
        "colab": {
          "base_uri": "https://localhost:8080/"
        },
        "id": "stMDAbdUlQC5",
        "outputId": "b6fb6bcc-b49a-49b6-f42d-d7ebf200d66a"
      },
      "execution_count": null,
      "outputs": [
        {
          "output_type": "stream",
          "name": "stdout",
          "text": [
            "   Unnamed: 0  NumDots  UrlLength  AtSymbol  NumDash  NumPercent  \\\n",
            "0           0        3         72         0        0           0   \n",
            "1           1        3        144         0        0           0   \n",
            "2           2        3         58         0        0           0   \n",
            "3           3        3         79         0        1           0   \n",
            "4           4        3         46         0        0           0   \n",
            "\n",
            "   NumQueryComponents  IpAddress  HttpsInHostname  PathLevel  PathLength  \\\n",
            "0                   0          0                0          5          44   \n",
            "1                   2          0                0          3          16   \n",
            "2                   0          0                0          2          24   \n",
            "3                   0          0                0          6          50   \n",
            "4                   0          0                0          4          29   \n",
            "\n",
            "   NumNumericChars  Phising  \n",
            "0                0      1.0  \n",
            "1               41      1.0  \n",
            "2                0      1.0  \n",
            "3                0      1.0  \n",
            "4                2      1.0  \n"
          ]
        }
      ]
    },
    {
      "cell_type": "code",
      "source": [
        "# Convertir 1.0 a 1 y 0.0 a 0 en la columna 'Phising' directamente en el DataFrame original\n",
        "df['Phising'].replace({1.0: 1, 0.0: 0}, inplace=True)\n",
        "\n",
        "# Verificar los valores únicos después de la conversión\n",
        "print(\"Valores únicos en la columna 'Phising' después de la conversión:\")\n",
        "print(df['Phising'].unique())"
      ],
      "metadata": {
        "colab": {
          "base_uri": "https://localhost:8080/"
        },
        "id": "itQkf9Wrzm1B",
        "outputId": "143d9682-2ea0-4015-e8d3-1a9a3e7a9d4d"
      },
      "execution_count": null,
      "outputs": [
        {
          "output_type": "stream",
          "name": "stdout",
          "text": [
            "Valores únicos en la columna 'Phising' después de la conversión:\n",
            "[ 1.  0. nan]\n"
          ]
        }
      ]
    },
    {
      "cell_type": "code",
      "source": [
        "# Imprimir las primeras filas del DataFrame\n",
        "print(df_cleaned.head())"
      ],
      "metadata": {
        "colab": {
          "base_uri": "https://localhost:8080/"
        },
        "id": "SVyON3dgzm3u",
        "outputId": "bf4bf80f-3306-403a-82ad-37f796f02c03"
      },
      "execution_count": null,
      "outputs": [
        {
          "output_type": "stream",
          "name": "stdout",
          "text": [
            "   Unnamed: 0  NumDots  UrlLength  AtSymbol  NumDash  NumPercent  \\\n",
            "0           0        3         72         0        0           0   \n",
            "1           1        3        144         0        0           0   \n",
            "2           2        3         58         0        0           0   \n",
            "3           3        3         79         0        1           0   \n",
            "4           4        3         46         0        0           0   \n",
            "\n",
            "   NumQueryComponents  IpAddress  HttpsInHostname  PathLevel  PathLength  \\\n",
            "0                   0          0                0          5          44   \n",
            "1                   2          0                0          3          16   \n",
            "2                   0          0                0          2          24   \n",
            "3                   0          0                0          6          50   \n",
            "4                   0          0                0          4          29   \n",
            "\n",
            "   NumNumericChars  Phising  \n",
            "0                0      1.0  \n",
            "1               41      1.0  \n",
            "2                0      1.0  \n",
            "3                0      1.0  \n",
            "4                2      1.0  \n"
          ]
        }
      ]
    },
    {
      "cell_type": "code",
      "source": [
        "print(df['Phising'])"
      ],
      "metadata": {
        "colab": {
          "base_uri": "https://localhost:8080/"
        },
        "id": "fQdGQjCizm6E",
        "outputId": "4425a0c4-5cc2-4c2c-abd5-07de10db3a32"
      },
      "execution_count": null,
      "outputs": [
        {
          "output_type": "stream",
          "name": "stdout",
          "text": [
            "0         1.0\n",
            "1         1.0\n",
            "2         1.0\n",
            "3         1.0\n",
            "4         1.0\n",
            "         ... \n",
            "662586    1.0\n",
            "662587    1.0\n",
            "662588    1.0\n",
            "662589    1.0\n",
            "662590    1.0\n",
            "Name: Phising, Length: 662591, dtype: float64\n"
          ]
        }
      ]
    },
    {
      "cell_type": "code",
      "source": [
        "# Eliminar valores NaN de la columna 'Phising'\n",
        "df_cleaned = df.dropna(subset=['Phising'])\n",
        "\n",
        "# Convertir 1.0 a 1 y 0.0 a 0 en la columna 'Phising'\n",
        "df_cleaned['Phising'] = df_cleaned['Phising'].replace({1.0: 1, 0.0: 0})\n",
        "\n",
        "# Cambiar el tipo de datos de la columna 'Phising' a entero\n",
        "df_cleaned['Phising'] = df_cleaned['Phising'].astype(int)\n",
        "\n",
        "# Imprimir la columna 'Phising' después de la conversión\n",
        "print(df_cleaned['Phising'])\n"
      ],
      "metadata": {
        "colab": {
          "base_uri": "https://localhost:8080/"
        },
        "id": "d9A1NiUnz-dL",
        "outputId": "dbb2813e-6c83-401e-d10c-27816872b59e"
      },
      "execution_count": null,
      "outputs": [
        {
          "output_type": "stream",
          "name": "stdout",
          "text": [
            "0         1\n",
            "1         1\n",
            "2         1\n",
            "3         1\n",
            "4         1\n",
            "         ..\n",
            "662586    1\n",
            "662587    1\n",
            "662588    1\n",
            "662589    1\n",
            "662590    1\n",
            "Name: Phising, Length: 630071, dtype: int64\n"
          ]
        },
        {
          "output_type": "stream",
          "name": "stderr",
          "text": [
            "<ipython-input-161-1cd874edd6b2>:5: SettingWithCopyWarning: \n",
            "A value is trying to be set on a copy of a slice from a DataFrame.\n",
            "Try using .loc[row_indexer,col_indexer] = value instead\n",
            "\n",
            "See the caveats in the documentation: https://pandas.pydata.org/pandas-docs/stable/user_guide/indexing.html#returning-a-view-versus-a-copy\n",
            "  df_cleaned['Phising'] = df_cleaned['Phising'].replace({1.0: 1, 0.0: 0})\n",
            "<ipython-input-161-1cd874edd6b2>:8: SettingWithCopyWarning: \n",
            "A value is trying to be set on a copy of a slice from a DataFrame.\n",
            "Try using .loc[row_indexer,col_indexer] = value instead\n",
            "\n",
            "See the caveats in the documentation: https://pandas.pydata.org/pandas-docs/stable/user_guide/indexing.html#returning-a-view-versus-a-copy\n",
            "  df_cleaned['Phising'] = df_cleaned['Phising'].astype(int)\n"
          ]
        }
      ]
    },
    {
      "cell_type": "code",
      "source": [
        "print(df_cleaned['Phising'])"
      ],
      "metadata": {
        "colab": {
          "base_uri": "https://localhost:8080/"
        },
        "id": "5dIJTMHdz-fr",
        "outputId": "9c3f39c6-d7a0-43b1-b5b0-180393b8fb1e"
      },
      "execution_count": null,
      "outputs": [
        {
          "output_type": "stream",
          "name": "stdout",
          "text": [
            "0         1\n",
            "1         1\n",
            "2         1\n",
            "3         1\n",
            "4         1\n",
            "         ..\n",
            "662586    1\n",
            "662587    1\n",
            "662588    1\n",
            "662589    1\n",
            "662590    1\n",
            "Name: Phising, Length: 630071, dtype: int64\n"
          ]
        }
      ]
    },
    {
      "cell_type": "markdown",
      "source": [
        "Una vez procesados los datos tenemos un nuevo dataframe llamado df_cleaned que se usará para la aplicación de la regresión logistica. En este dataframe se usan solo 9 X.\n",
        "\n",
        "X = 'NumDots', 'UrlLength', 'AtSymbol', 'NumDash', 'NumPercent', 'NumQueryComponents', 'PathLevel', 'PathLength', 'NumNumericChars'\n",
        "\n",
        "y = 'Phising'"
      ],
      "metadata": {
        "id": "PwzjSvdkqLpU"
      }
    },
    {
      "cell_type": "markdown",
      "source": [
        "# Librerias usadas para regresión logistica"
      ],
      "metadata": {
        "id": "1u8B_-94WQti"
      }
    },
    {
      "cell_type": "code",
      "source": [
        "# se utiliza para el manejo de rutas y directorios.\n",
        "import os\n",
        "\n",
        "# Calculo cientifico y vectorial para python\n",
        "import numpy as np\n",
        "\n",
        "# Librerias para graficar\n",
        "from matplotlib import pyplot\n",
        "\n",
        "# Modulo de optimización de scipy\n",
        "from scipy import optimize\n",
        "\n",
        "from tabulate import tabulate\n",
        "\n",
        "# le dice a matplotlib que incruste gráficos en el cuaderno\n",
        "%matplotlib inline"
      ],
      "metadata": {
        "id": "krC8ySgi2d4O"
      },
      "execution_count": null,
      "outputs": []
    },
    {
      "cell_type": "markdown",
      "source": [
        "# Visualización de datos"
      ],
      "metadata": {
        "id": "UpnwnNmgXBXV"
      }
    },
    {
      "cell_type": "markdown",
      "source": [
        "No se usan todas las columnas del dataset pues no son relevantes, solo se usan 9 y para \"y\" se usa la columna Phising. Además se usa el 80% del dataset para entrenar y 20% para testear."
      ],
      "metadata": {
        "id": "LxN6UYFlXbtR"
      }
    },
    {
      "cell_type": "code",
      "source": [
        "# columnas relevantes para X\n",
        "features = ['NumDots', 'UrlLength', 'AtSymbol', 'NumDash', 'NumPercent', 'NumQueryComponents', 'PathLevel', 'PathLength', 'NumNumericChars']\n",
        "X = df_cleaned[features].values\n",
        "\n",
        "# Phising' para y\n",
        "y = df_cleaned['Phising'].values\n",
        "\n",
        "# Dividir los datos en entrenamiento y prueba (80% entrenamiento, 20% prueba)\n",
        "train_size = int(0.8 * len(df_cleaned))\n",
        "X_train, y_train = X[:train_size], y[:train_size]\n",
        "X_test, y_test = X[train_size:], y[train_size:]\n",
        "\n",
        "# Asignar X_train y y_train a X y y respectivamente\n",
        "X = X_train\n",
        "y = y_train\n",
        "m_train = len(y_train)\n",
        "\n",
        "# Imprimir los datos de entrenamiento y prueba\n",
        "print(\"Datos de entrenamiento:\")\n",
        "print(X_train)\n",
        "print(y_train)\n",
        "print(\"Datos de prueba:\")\n",
        "print(X_test)\n",
        "print(y_test)"
      ],
      "metadata": {
        "colab": {
          "base_uri": "https://localhost:8080/"
        },
        "id": "H2r8sEo0z-h6",
        "outputId": "8e8e1081-9340-44ec-d98b-5d138df13004"
      },
      "execution_count": null,
      "outputs": [
        {
          "output_type": "stream",
          "name": "stdout",
          "text": [
            "Datos de entrenamiento:\n",
            "[[  3  72   0 ...   5  44   0]\n",
            " [  3 144   0 ...   3  16  41]\n",
            " [  3  58   0 ...   2  24   0]\n",
            " ...\n",
            " [  4 104   0 ...   1  10   1]\n",
            " [  2 195   0 ...   1  10   1]\n",
            " [  3 101   0 ...   1  11   1]]\n",
            "[1 1 1 ... 0 0 0]\n",
            "Datos de prueba:\n",
            "[[ 1 36  0 ...  4 36  1]\n",
            " [ 2 66  0 ...  5 66  1]\n",
            " [ 3 45  0 ...  3 45  0]\n",
            " ...\n",
            " [ 2 42  0 ...  4 42  1]\n",
            " [ 2 45  0 ...  3 45  0]\n",
            " [ 2 41  0 ...  3 41  0]]\n",
            "[0 0 0 ... 1 1 1]\n"
          ]
        }
      ]
    },
    {
      "cell_type": "code",
      "source": [
        "def plotData(X, y):\n",
        "    # Grafica los puntos de datos X y y en una nueva figura. Grafica los puntos de datos con * para los positivos y\n",
        "    # o para los negativos.\n",
        "\n",
        "    # Crea una nueva figura\n",
        "    fig = pyplot.figure()\n",
        "\n",
        "    # Encuentra los índices de ejemplos positivos y negativos\n",
        "    pos = y == 1\n",
        "    neg = y == 0\n",
        "\n",
        "    # Grafica ejemplos positivos\n",
        "    pyplot.plot(X[pos, 0], X[pos, 1], 'k*', lw=2, ms=10, label='Phishing')\n",
        "\n",
        "    # Grafica ejemplos negativos\n",
        "    pyplot.plot(X[neg, 0], X[neg, 1], 'ko', mfc='y', ms=8, mec='k', mew=1, label='No Phishing')\n",
        "\n",
        "    # Etiqueta los ejes\n",
        "    pyplot.xlabel('NumDots')\n",
        "    pyplot.ylabel('PathLength')\n",
        "\n",
        "    # Agrega una leyenda\n",
        "    pyplot.legend()\n",
        "\n",
        "    # Muestra la gráfica\n",
        "    pyplot.show()\n",
        "\n",
        "# Llama a la función para visualizar los datos\n",
        "plotData(X, y)\n"
      ],
      "metadata": {
        "colab": {
          "base_uri": "https://localhost:8080/",
          "height": 449
        },
        "id": "OyXqg8VX2cHF",
        "outputId": "0668f09a-616e-4733-e374-392e9a7c4a21"
      },
      "execution_count": null,
      "outputs": [
        {
          "output_type": "display_data",
          "data": {
            "text/plain": [
              "<Figure size 640x480 with 1 Axes>"
            ],
            "image/png": "[encoded data removed]"
          },
          "metadata": {}
        }
      ]
    },
    {
      "cell_type": "markdown",
      "source": [
        "\n",
        "# Normalización de características"
      ],
      "metadata": {
        "id": "Q6r21i-klTRO"
      }
    },
    {
      "cell_type": "markdown",
      "source": [
        "Los datos de las X están en diferente escalas y deben ser normalizadas"
      ],
      "metadata": {
        "id": "8IhijLRZlYoc"
      }
    },
    {
      "cell_type": "code",
      "source": [
        "def featureNormalize(X):\n",
        "    # Hace una copia de X\n",
        "    X_norm = X.copy()\n",
        "\n",
        "    # Inicializa mu y sigma con ceros\n",
        "    mu = np.zeros(X.shape[1])\n",
        "    sigma = np.zeros(X.shape[1])\n",
        "\n",
        "    # Calcula la media y la desviación estándar de cada característica\n",
        "    mu = np.mean(X, axis=0)\n",
        "    sigma = np.std(X, axis=0)\n",
        "\n",
        "    sigma[sigma == 0] = 1\n",
        "\n",
        "    # Normaliza cada característica\n",
        "    X_norm = (X - mu) / sigma\n",
        "\n",
        "    return X_norm, mu, sigma\n"
      ],
      "metadata": {
        "id": "F7ojN15U7RHc"
      },
      "execution_count": null,
      "outputs": []
    },
    {
      "cell_type": "code",
      "source": [
        "# Llama featureNormalize con los datos cargados\n",
        "X_norm, mu, sigma = featureNormalize(X_train)\n",
        "\n",
        "# imprimir todas las X_norm de datos solo 10 ejemplos\n",
        "print('{:>8s}{:>8s}{:>10s}{:>10s}{:>8s}{:>8s}{:>8s}{:>8s}{:>8s}'.format(\n",
        "    'X[:,0]', 'X[:, 1]', 'X[:, 2]', 'X[:, 3]', 'X[:, 4]', 'X[:, 5]', 'X[:, 6]', 'X[:, 7]', 'X[:, 8]'\n",
        "))\n",
        "print('-' * 85)\n",
        "\n",
        "for i in range(10):\n",
        "    print('{:8.3f}{:8.3f}{:10.3f}{:10.3f}{:8.3f}{:8.3f}{:8.3f}{:8.3f}{:8.3f}'.format(\n",
        "        X_norm[i, 0], X_norm[i, 1], X_norm[i, 2], X_norm[i, 3], X_norm[i, 4], X_norm[i, 5], X_norm[i, 6], X_norm[i, 7], X_norm[i, 8]\n",
        "    ))\n"
      ],
      "metadata": {
        "colab": {
          "base_uri": "https://localhost:8080/"
        },
        "id": "wsHY428omsoQ",
        "outputId": "99d588aa-0c94-4020-f97a-2f79c655e96e"
      },
      "execution_count": null,
      "outputs": [
        {
          "output_type": "stream",
          "name": "stdout",
          "text": [
            "  X[:,0] X[:, 1]   X[:, 2]   X[:, 3] X[:, 4] X[:, 5] X[:, 6] X[:, 7] X[:, 8]\n",
            "-------------------------------------------------------------------------------------\n",
            "   0.899   0.333    -0.027    -0.561  -0.096  -0.497   1.445   0.120  -0.414\n",
            "   0.899   2.185    -0.027    -0.561  -0.096   3.817   0.166  -0.887  24.960\n",
            "   0.899  -0.027    -0.027    -0.561  -0.096  -0.497  -0.473  -0.599  -0.414\n",
            "   0.899   0.513    -0.027    -0.250  -0.096  -0.497   2.085   0.335  -0.414\n",
            "   0.899  -0.336    -0.027    -0.561  -0.096  -0.497   0.806  -0.420   0.824\n",
            "   0.899  -0.439    -0.027    -0.250  -0.096  -0.497  -1.113  -1.031  -0.414\n",
            "   0.037   0.024    -0.027    -0.561  -0.096  -0.497   1.445  -0.168   0.205\n",
            "  -0.825  -0.748    -0.027    -0.561  -0.096  -0.497   0.166  -1.067   1.442\n",
            "   5.208   0.436    -0.027    -0.250  -0.096  -0.497  -0.473  -1.318   0.824\n",
            "   0.037  -0.336    -0.027    -0.561  -0.096  -0.497  -0.473  -0.563  -0.414\n"
          ]
        }
      ]
    },
    {
      "cell_type": "code",
      "source": [
        "# Concatenar una columna de unos al inicio de X_norm\n",
        "X_ready = np.concatenate([np.ones((m_train, 1)), X_norm], axis=1)\n",
        "\n",
        "# Imprimir los nombres de las características\n",
        "print('{:>8s}{:>8s}{:>10s}{:>10s}{:>8s}{:>8s}{:>8s}{:>8s}{:>8s}{:>8s}'.format(\n",
        "    'X[:,0]', 'X[:, 1]', 'X[:, 2]', 'X[:, 3]', 'X[:, 4]', 'X[:, 5]', 'X[:, 6]', 'X[:, 7]', 'X[:, 8]', 'X[:, 9]'\n",
        "))\n",
        "print('-' * 130)\n",
        "\n",
        "# Imprimir solo 10 ejemplos de X_norm\n",
        "for i in range(10):\n",
        "    print('{:8.3f}{:8.3f}{:10.3f}{:10.3f}{:8.3f}{:8.3f}{:8.3f}{:8.3f}{:8.3f}{:8.3f}'.format(\n",
        "        X_ready[i, 0], X_ready[i, 1], X_ready[i, 2], X_ready[i, 3], X_ready[i, 4], X_ready[i, 5], X_ready[i, 6], X_ready[i, 7], X_ready[i, 8], X_ready[i, 9]\n",
        "    ))\n"
      ],
      "metadata": {
        "colab": {
          "base_uri": "https://localhost:8080/"
        },
        "id": "XL1YI4_9msrG",
        "outputId": "3b36ab0f-bcaf-444b-953b-3079e4bc10f7"
      },
      "execution_count": null,
      "outputs": [
        {
          "output_type": "stream",
          "name": "stdout",
          "text": [
            "  X[:,0] X[:, 1]   X[:, 2]   X[:, 3] X[:, 4] X[:, 5] X[:, 6] X[:, 7] X[:, 8] X[:, 9]\n",
            "----------------------------------------------------------------------------------------------------------------------------------\n",
            "   1.000   0.899     0.333    -0.027  -0.561  -0.096  -0.497   1.445   0.120  -0.414\n",
            "   1.000   0.899     2.185    -0.027  -0.561  -0.096   3.817   0.166  -0.887  24.960\n",
            "   1.000   0.899    -0.027    -0.027  -0.561  -0.096  -0.497  -0.473  -0.599  -0.414\n",
            "   1.000   0.899     0.513    -0.027  -0.250  -0.096  -0.497   2.085   0.335  -0.414\n",
            "   1.000   0.899    -0.336    -0.027  -0.561  -0.096  -0.497   0.806  -0.420   0.824\n",
            "   1.000   0.899    -0.439    -0.027  -0.250  -0.096  -0.497  -1.113  -1.031  -0.414\n",
            "   1.000   0.037     0.024    -0.027  -0.561  -0.096  -0.497   1.445  -0.168   0.205\n",
            "   1.000  -0.825    -0.748    -0.027  -0.561  -0.096  -0.497   0.166  -1.067   1.442\n",
            "   1.000   5.208     0.436    -0.027  -0.250  -0.096  -0.497  -0.473  -1.318   0.824\n",
            "   1.000   0.037    -0.336    -0.027  -0.561  -0.096  -0.497  -0.473  -0.563  -0.414\n"
          ]
        }
      ]
    },
    {
      "cell_type": "markdown",
      "source": [
        "# Función Sigmoidea"
      ],
      "metadata": {
        "id": "g6jT31MensoU"
      }
    },
    {
      "cell_type": "code",
      "source": [
        "def sigmoid(z):\n",
        "    # Calcula la sigmoide de una entrada z\n",
        "    # Convierte la entrada a un arreglo numpy\n",
        "    z = np.array(z)\n",
        "\n",
        "    # Inicializa un arreglo de ceros con la misma forma que z\n",
        "    g = np.zeros(z.shape)\n",
        "\n",
        "    # Calcula la sigmoide\n",
        "    g = 1 / (1 + np.exp(-z))\n",
        "\n",
        "    return g\n",
        "\n",
        "# Prueba la implementación de la función sigmoid\n",
        "z = [0, 0.5, 1]\n",
        "g = sigmoid(z)\n",
        "\n",
        "print('g(', z, ') = ', g)\n"
      ],
      "metadata": {
        "colab": {
          "base_uri": "https://localhost:8080/"
        },
        "id": "m5MHnyvZz-kc",
        "outputId": "7fdc185b-2c81-4839-9e07-ae3c3413fefa"
      },
      "execution_count": null,
      "outputs": [
        {
          "output_type": "stream",
          "name": "stdout",
          "text": [
            "g( [0, 0.5, 1] ) =  [0.5        0.62245933 0.73105858]\n"
          ]
        }
      ]
    },
    {
      "cell_type": "markdown",
      "source": [
        "# Cálculo de costo"
      ],
      "metadata": {
        "id": "m54X35hGoI-Z"
      }
    },
    {
      "cell_type": "code",
      "source": [
        "\n",
        "def calcularCosto(theta, X, y):\n",
        "    # Inicializar algunos valores útiles\n",
        "    m = y.size  # número de ejemplos de entrenamiento\n",
        "\n",
        "    J = 0\n",
        "\n",
        "    # Calcula la función de costo J\n",
        "    h = sigmoid(X.dot(theta.T))\n",
        "    J = (1 / m) * np.sum(-y.dot(np.log(h)) - (1 - y).dot(np.log(1 - h)))\n",
        "\n",
        "    return J"
      ],
      "metadata": {
        "id": "lG0PGW1MR_hn"
      },
      "execution_count": null,
      "outputs": []
    },
    {
      "cell_type": "markdown",
      "source": [
        "# Descenso por el gradiente"
      ],
      "metadata": {
        "id": "7QNegavSoMWp"
      }
    },
    {
      "cell_type": "code",
      "source": [
        "def descensoGradiente(theta, X, y, alpha, num_iters):\n",
        "    # Inicializa algunos valores\n",
        "    m = y.shape[0]  # número de ejemplos de entrenamiento\n",
        "\n",
        "    # Realiza una copia de theta, el cual será actualizado por el descenso por el gradiente\n",
        "    theta = theta.copy()\n",
        "    J_history = []\n",
        "\n",
        "    for i in range(num_iters):\n",
        "        # Calcula la función de costo y el gradiente\n",
        "        h = sigmoid(X.dot(theta))\n",
        "\n",
        "        theta = theta - (alpha / m) * (h - y).dot(X)\n",
        "\n",
        "        # Guarda el costo en cada iteración\n",
        "        J_history.append(calcularCosto(theta, X, y))\n",
        "\n",
        "    return theta, J_history\n"
      ],
      "metadata": {
        "id": "iNbCbJ-p7RJ-"
      },
      "execution_count": null,
      "outputs": []
    },
    {
      "cell_type": "code",
      "source": [
        "#creamos un theta con 19 columnas de ceros\n",
        "theta = np.zeros(len(X_ready[0]))\n",
        "\n"
      ],
      "metadata": {
        "id": "eozOwV0Nsg7Q"
      },
      "execution_count": null,
      "outputs": []
    },
    {
      "cell_type": "markdown",
      "source": [
        "# Convergencia de costo"
      ],
      "metadata": {
        "id": "KVXamI3PoZKg"
      }
    },
    {
      "cell_type": "code",
      "source": [
        "#creamos un theta con 19 columnas de ceros\n",
        "theta = np.zeros(len(X_ready[0]))\n",
        "\n",
        "#numero de iteraciones sera 900 y un alpha 0.009\n",
        "num_ite = 900\n",
        "alpha = 0.009\n",
        "\n",
        "theta, J_historico = descensoGradiente(theta, X_ready, y_train, alpha, num_ite)\n",
        "\n",
        "print(\"########################################################################################################\")\n",
        "print(\"Los valores de theta calculados son:\")\n",
        "i = 0\n",
        "for tht in theta:\n",
        "    i += 1\n",
        "    print(f\"theta {i}: {tht}\")\n",
        "\n",
        "\n",
        "print(f\"########################################################################################################\")\n",
        "#mostramos el ultimo costo, este seria el mejor costo\n",
        "print(f\"con un costo de: { J_historico[-1]} \")\n"
      ],
      "metadata": {
        "colab": {
          "base_uri": "https://localhost:8080/"
        },
        "id": "W_3498l27RMe",
        "outputId": "b507ebd6-d950-4077-8e01-f12cb9b115b5"
      },
      "execution_count": null,
      "outputs": [
        {
          "output_type": "stream",
          "name": "stdout",
          "text": [
            "########################################################################################################\n",
            "Los valores de theta calculados son:\n",
            "theta 1: -1.6438318107378433\n",
            "theta 2: 0.13369089939698003\n",
            "theta 3: -0.07783081982261811\n",
            "theta 4: 0.004013676194294513\n",
            "theta 5: -0.07355323717043594\n",
            "theta 6: -0.002776476617401119\n",
            "theta 7: -0.1415711355964048\n",
            "theta 8: -0.16238196467266053\n",
            "theta 9: -0.08986061172483063\n",
            "theta 10: 0.11957774126105035\n",
            "########################################################################################################\n",
            "con un costo de: 0.2789857158555175 \n"
          ]
        }
      ]
    },
    {
      "cell_type": "code",
      "source": [
        "pyplot.plot(np.arange(len(J_historico)), J_historico, lw=2)\n",
        "pyplot.title(\"Grafica de la convergencia del costo\")\n",
        "pyplot.xlabel('Numero de iteraciones')\n",
        "pyplot.ylabel('Costo J')"
      ],
      "metadata": {
        "colab": {
          "base_uri": "https://localhost:8080/",
          "height": 489
        },
        "id": "Hp3HYTJswjN-",
        "outputId": "cdc945e1-8788-4030-b0cd-f72f4de9a529"
      },
      "execution_count": null,
      "outputs": [
        {
          "output_type": "execute_result",
          "data": {
            "text/plain": [
              "Text(0, 0.5, 'Costo J')"
            ]
          },
          "metadata": {},
          "execution_count": 178
        },
        {
          "output_type": "display_data",
          "data": {
            "text/plain": [
              "<Figure size 640x480 with 1 Axes>"
            ],
            "image/png": "[encoded data removed]"
          },
          "metadata": {}
        }
      ]
    },
    {
      "cell_type": "code",
      "source": [
        "print(df_cleaned.tail())"
      ],
      "metadata": {
        "id": "MWNyol12bZKn",
        "colab": {
          "base_uri": "https://localhost:8080/"
        },
        "outputId": "bd8da6f1-108c-4d42-b9c9-e424010f2ac4"
      },
      "execution_count": null,
      "outputs": [
        {
          "output_type": "stream",
          "name": "stdout",
          "text": [
            "        Unnamed: 0  NumDots  UrlLength  AtSymbol  NumDash  NumPercent  \\\n",
            "662586      662586        3         39         0        0           0   \n",
            "662587      662587        2         44         0        2           0   \n",
            "662588      662588        2         42         0        0           0   \n",
            "662589      662589        2         45         0        0           0   \n",
            "662590      662590        2         41         0        0           0   \n",
            "\n",
            "        NumQueryComponents  IpAddress  HttpsInHostname  PathLevel  PathLength  \\\n",
            "662586                   0          0                0          4          39   \n",
            "662587                   0          0                0          4          44   \n",
            "662588                   0          0                0          4          42   \n",
            "662589                   0          0                0          3          45   \n",
            "662590                   0          0                0          3          41   \n",
            "\n",
            "        NumNumericChars  Phising  \n",
            "662586                1        1  \n",
            "662587                1        1  \n",
            "662588                1        1  \n",
            "662589                0        1  \n",
            "662590                0        1  \n"
          ]
        }
      ]
    },
    {
      "cell_type": "code",
      "source": [
        "X_array = [1, 3, 39, 0, 0, 0, 0, 4, 39, 1]  # Datos del ejemplo\n",
        "X_array_copy = X_array.copy()\n",
        "\n",
        "# Normalizar todas las características, excepto el término de intercepción, para la prueba utilizando mu y sigma calculados anteriormente\n",
        "X_array[1:] = (X_array[1:] - mu) / sigma\n",
        "\n",
        "# Calcular la probabilidad utilizando la función sigmoid y los parámetros theta\n",
        "resultados = sigmoid(np.dot(X_array, theta))\n",
        "\n",
        "# Imprimir los resultados\n",
        "print(f\"Un ejemplo con las características: {X_array_copy}\")\n",
        "print(f'Tiene una probabilidad de ser phishing de: {resultados * 100:.2f} %')\n",
        "print(f\"Con valores de theta: {theta}\")"
      ],
      "metadata": {
        "id": "g-TT1KlToQ0S",
        "colab": {
          "base_uri": "https://localhost:8080/"
        },
        "outputId": "7c4a7a72-757c-428f-b915-9a7e6935c571"
      },
      "execution_count": null,
      "outputs": [
        {
          "output_type": "stream",
          "name": "stdout",
          "text": [
            "Un ejemplo con las características: [1, 3, 39, 0, 0, 0, 0, 4, 39, 1]\n",
            "Tiene una probabilidad de ser phishing de: 18.65 %\n",
            "Con valores de theta: [-1.64383181  0.1336909  -0.07783082  0.00401368 -0.07355324 -0.00277648\n",
            " -0.14157114 -0.16238196 -0.08986061  0.11957774]\n"
          ]
        }
      ]
    },
    {
      "cell_type": "code",
      "source": [
        "nombres_columnas = [ 'NumDots', 'UrlLength', 'AtSymbol', 'NumDash', 'NumPercent', 'NumQueryComponents', 'PathLevel', 'PathLength', 'NumNumericChars','Phising', 'Phising(Si/No)']\n",
        "\n",
        "matriz_datos = np.array([\n",
        "[3,72,0,0,0,0,5,44,0],\n",
        "[3,144,0,0,0,2,3,16,41],\n",
        "[3,58,0,0,0,0,2,24,0],\n",
        "[3,79,0,1,0,0,6,50,0],\n",
        "[3,46,0,0,0,0,4,29,2],\n",
        "\n",
        "[2,150,1,0,0,0,6,42,56],\n",
        "[9,45,0,0,0,3,10,32,0],\n",
        "[8,78,2,1,0,0,5,96,1],\n",
        "[1,80,0,0,1,0,2,50,9],\n",
        "[0,99,1,0,0,0,1,74,6],\n",
        "])\n",
        "\n",
        "para_tabla = matriz_datos.copy()\n",
        "#creamos un vector parta almacenar cada Y predicha\n",
        "y_pre = []\n",
        "\n",
        "matriz_datos = (matriz_datos- mu) / sigma\n",
        "matriz_datos = np.concatenate([np.ones((len(matriz_datos), 1)), matriz_datos], axis=1)\n",
        "\n",
        "# Calculamos la Y predicha de los 11 ejemplos de prediccion\n",
        "# Calculamos la Y predicha de cada fila de la matriz\n",
        "for j in matriz_datos:\n",
        "    y_pre.append(sigmoid(np.dot(j, theta)))\n",
        "\n",
        "# Convertimos la lista a un array unidimensional\n",
        "\n",
        "y_pre = np.array(y_pre)\n",
        "\n",
        "# usamos umbral para definir si tiene o no la enfermedad\n",
        "y_pre_umbral = (y_pre >= 0.5).astype(int)\n",
        "\n",
        "para_tabla = np.column_stack((para_tabla, y_pre))\n",
        "para_tabla = np.column_stack((para_tabla, y_pre_umbral))\n",
        "# Convertir la matriz en una lista de listas\n",
        "datos_para_tabla = para_tabla.tolist()\n",
        "\n",
        "# Imprimir la tabla\n",
        "print(tabulate(datos_para_tabla, headers=nombres_columnas, tablefmt='grid'))"
      ],
      "metadata": {
        "id": "l2zrRbBvgKXW",
        "colab": {
          "base_uri": "https://localhost:8080/"
        },
        "outputId": "c855cadc-a5dd-41f8-9dfd-2276ed5ef999"
      },
      "execution_count": null,
      "outputs": [
        {
          "output_type": "stream",
          "name": "stdout",
          "text": [
            "+-----------+-------------+------------+-----------+--------------+----------------------+-------------+--------------+-------------------+-----------+------------------+\n",
            "|   NumDots |   UrlLength |   AtSymbol |   NumDash |   NumPercent |   NumQueryComponents |   PathLevel |   PathLength |   NumNumericChars |   Phising |   Phising(Si/No) |\n",
            "+===========+=============+============+===========+==============+======================+=============+==============+===================+===========+==================+\n",
            "|         3 |          72 |          0 |         0 |            0 |                    0 |           5 |           44 |                 0 | 0.150225  |                0 |\n",
            "+-----------+-------------+------------+-----------+--------------+----------------------+-------------+--------------+-------------------+-----------+------------------+\n",
            "|         3 |         144 |          0 |         0 |            0 |                    2 |           3 |           16 |                41 | 0.699444  |                1 |\n",
            "+-----------+-------------+------------+-----------+--------------+----------------------+-------------+--------------+-------------------+-----------+------------------+\n",
            "|         3 |          58 |          0 |         0 |            0 |                    0 |           2 |           24 |                 0 | 0.209385  |                0 |\n",
            "+-----------+-------------+------------+-----------+--------------+----------------------+-------------+--------------+-------------------+-----------+------------------+\n",
            "|         3 |          79 |          0 |         1 |            0 |                    0 |           6 |           50 |                 0 | 0.130907  |                0 |\n",
            "+-----------+-------------+------------+-----------+--------------+----------------------+-------------+--------------+-------------------+-----------+------------------+\n",
            "|         3 |          46 |          0 |         0 |            0 |                    0 |           4 |           29 |                 2 | 0.200934  |                0 |\n",
            "+-----------+-------------+------------+-----------+--------------+----------------------+-------------+--------------+-------------------+-----------+------------------+\n",
            "|         2 |         150 |          1 |         0 |            0 |                    0 |           6 |           42 |                56 | 0.89722   |                1 |\n",
            "+-----------+-------------+------------+-----------+--------------+----------------------+-------------+--------------+-------------------+-----------+------------------+\n",
            "|         9 |          45 |          0 |         0 |            0 |                    3 |          10 |           32 |                 0 | 0.0843954 |                0 |\n",
            "+-----------+-------------+------------+-----------+--------------+----------------------+-------------+--------------+-------------------+-----------+------------------+\n",
            "|         8 |          78 |          2 |         1 |            0 |                    0 |           5 |           96 |                 1 | 0.261638  |                0 |\n",
            "+-----------+-------------+------------+-----------+--------------+----------------------+-------------+--------------+-------------------+-----------+------------------+\n",
            "|         1 |          80 |          0 |         0 |            1 |                    0 |           2 |           50 |                 9 | 0.264703  |                0 |\n",
            "+-----------+-------------+------------+-----------+--------------+----------------------+-------------+--------------+-------------------+-----------+------------------+\n",
            "|         0 |          99 |          1 |         0 |            0 |                    0 |           1 |           74 |                 6 | 0.223408  |                0 |\n",
            "+-----------+-------------+------------+-----------+--------------+----------------------+-------------+--------------+-------------------+-----------+------------------+\n"
          ]
        }
      ]
    },
    {
      "cell_type": "code",
      "source": [
        "X_norm_test = (X_test- mu) / sigma\n",
        "m_test= len(X_test)"
      ],
      "metadata": {
        "id": "EZt36_j9gKaW"
      },
      "execution_count": null,
      "outputs": []
    },
    {
      "cell_type": "code",
      "source": [
        "X_test_ready = np.concatenate([np.ones((m_test, 1)), X_norm_test], axis=1)\n",
        "# Imprimir los valores de las características de los datos, mostrando solo 10 ejemplos\n",
        "print('{:>8s}{:>8s}{:>10s}{:>10s}{:>8s}{:>8s}{:>8s}{:>8s}{:>8s}{:>10s}'.format(\n",
        "    'X[:,0]', 'X[:, 1]', 'X[:, 2]', 'X[:, 3]', 'X[:, 4]', 'X[:, 5]', 'X[:, 6]', 'X[:, 7]', 'X[:, 8]', 'X[:, 9]'\n",
        "))\n",
        "print('-' * 88)\n",
        "\n",
        "for i in range(10):\n",
        "    print('{:8.3f}{:8.3f}{:10.3f}{:10.3f}{:8.3f}{:8.3f}{:8.3f}{:8.3f}{:8.3f}{:10.3f}'.format(\n",
        "        X_test_ready[i, 0], X_test_ready[i, 1], X_test_ready[i, 2], X_test_ready[i, 3], X_test_ready[i, 4],\n",
        "        X_test_ready[i, 5], X_test_ready[i, 6], X_test_ready[i, 7], X_test_ready[i, 8], X_test_ready[i, 9]\n",
        "    ))\n",
        "\n"
      ],
      "metadata": {
        "colab": {
          "base_uri": "https://localhost:8080/"
        },
        "id": "DWwz2WCJd0ik",
        "outputId": "ff81c7f8-66ab-4a1a-86af-148fe7ff69ef"
      },
      "execution_count": null,
      "outputs": [
        {
          "output_type": "stream",
          "name": "stdout",
          "text": [
            "  X[:,0] X[:, 1]   X[:, 2]   X[:, 3] X[:, 4] X[:, 5] X[:, 6] X[:, 7] X[:, 8]   X[:, 9]\n",
            "----------------------------------------------------------------------------------------\n",
            "   1.000  -0.825    -0.593    -0.027  -0.250  -0.096  -0.497   0.806  -0.168     0.205\n",
            "   1.000   0.037     0.178    -0.027   0.372  -0.096  -0.497   1.445   0.910     0.205\n",
            "   1.000   0.899    -0.362    -0.027   0.061  -0.096  -0.497   0.166   0.155    -0.414\n",
            "   1.000   0.037    -1.082    -0.027  -0.561  -0.096  -0.497  -1.113  -0.851    -0.414\n",
            "   1.000  -0.825    -1.134    -0.027  -0.561  -0.096  -0.497  -1.113  -0.923    -0.414\n",
            "   1.000  -0.825     0.642    -0.027   0.994  -0.096  -0.497   1.445   1.557     0.205\n",
            "   1.000  -0.825    -0.722    -0.027  -0.561  -0.096   1.660  -0.473  -0.851     0.205\n",
            "   1.000   0.037     0.204    -0.027   0.372  -0.096  -0.497  -0.473   0.946     0.205\n",
            "   1.000  -0.825    -0.979    -0.027  -0.561  -0.096  -0.497  -1.113  -0.707    -0.414\n",
            "   1.000  -0.825    -0.722    -0.027  -0.561  -0.096   1.660  -0.473  -0.851    -0.414\n"
          ]
        }
      ]
    },
    {
      "cell_type": "code",
      "source": [
        "# Inicializar lista para las predicciones\n",
        "y_predicha = []\n",
        "\n",
        "# Calcular la Y predicha para cada fila de la matriz de datos de prueba\n",
        "for dato in X_test_ready:\n",
        "    y_predicha.append(sigmoid(np.dot(dato, theta)))\n",
        "\n",
        "# Convertir la lista en un array unidimensional\n",
        "y_predicha = np.array(y_predicha)\n",
        "\n",
        "# Usar un umbral donde todo lo que sea >= 0.5 será 1 y < 0.5 será 0\n",
        "y_umbral = (y_predicha >= 0.5).astype(int)\n",
        "\n",
        "# Imprimir los nombres de las características y las predicciones usando el umbral\n",
        "# Imprimir los nombres de las características y las predicciones usando el umbral\n",
        "print('{:>8s}{:>8s}{:>10s}{:>10s}{:>8s}{:>8s}{:>8s}{:>8s}{:>8s}'.format(\n",
        "    'X[:,0]', 'X[:, 1]', 'X[:, 2]', 'X[:, 3]', 'X[:, 4]', 'X[:, 5]', 'X[:, 6]', 'X[:, 7]', 'Y_predicha'\n",
        "))\n",
        "\n",
        "print('-' * 100)\n",
        "\n",
        "# Mostrar algunos datos\n",
        "for i in range(10):\n",
        "    print('{:8.3f}{:8.3f}{:10.3f}{:10.3f}{:8.3f}{:8.3f}{:8.3f}{:8.3f}{:8.3f}{:8.3f}'.format(\n",
        "        X_test_ready[i, 0], X_test_ready[i, 1], X_test_ready[i, 2], X_test_ready[i, 3], X_test_ready[i, 4], X_test_ready[i, 5],\n",
        "        X_test_ready[i, 6], X_test_ready[i, 7], X_test_ready[i, 8], y_umbral[i]\n",
        "    ))\n",
        "\n"
      ],
      "metadata": {
        "colab": {
          "base_uri": "https://localhost:8080/"
        },
        "id": "H2z1rnuCd0lJ",
        "outputId": "416b5805-f55f-45ca-e2cc-b442f4a98f44"
      },
      "execution_count": null,
      "outputs": [
        {
          "output_type": "stream",
          "name": "stdout",
          "text": [
            "  X[:,0] X[:, 1]   X[:, 2]   X[:, 3] X[:, 4] X[:, 5] X[:, 6] X[:, 7]Y_predicha\n",
            "----------------------------------------------------------------------------------------------------\n",
            "   1.000  -0.825    -0.593    -0.027  -0.250  -0.096  -0.497   0.806  -0.168   0.000\n",
            "   1.000   0.037     0.178    -0.027   0.372  -0.096  -0.497   1.445   0.910   0.000\n",
            "   1.000   0.899    -0.362    -0.027   0.061  -0.096  -0.497   0.166   0.155   0.000\n",
            "   1.000   0.037    -1.082    -0.027  -0.561  -0.096  -0.497  -1.113  -0.851   0.000\n",
            "   1.000  -0.825    -1.134    -0.027  -0.561  -0.096  -0.497  -1.113  -0.923   0.000\n",
            "   1.000  -0.825     0.642    -0.027   0.994  -0.096  -0.497   1.445   1.557   0.000\n",
            "   1.000  -0.825    -0.722    -0.027  -0.561  -0.096   1.660  -0.473  -0.851   0.000\n",
            "   1.000   0.037     0.204    -0.027   0.372  -0.096  -0.497  -0.473   0.946   0.000\n",
            "   1.000  -0.825    -0.979    -0.027  -0.561  -0.096  -0.497  -1.113  -0.707   0.000\n",
            "   1.000  -0.825    -0.722    -0.027  -0.561  -0.096   1.660  -0.473  -0.851   0.000\n"
          ]
        }
      ]
    },
    {
      "cell_type": "code",
      "source": [
        "print('Precisión de entrenamiento: {:.2f} %'.format(np.mean(y_umbral == y_test) * 100))"
      ],
      "metadata": {
        "colab": {
          "base_uri": "https://localhost:8080/"
        },
        "id": "0bDLPhbBd0oV",
        "outputId": "be8d39dc-9f76-4a7a-ef76-29da4ebf81c2"
      },
      "execution_count": null,
      "outputs": [
        {
          "output_type": "stream",
          "name": "stdout",
          "text": [
            "Precisión de entrenamiento: 49.25 %\n"
          ]
        }
      ]
    }
  ]
}