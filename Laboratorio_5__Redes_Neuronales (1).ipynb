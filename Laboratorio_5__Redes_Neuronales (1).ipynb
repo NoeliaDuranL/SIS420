{
  "cells": [
    {
      "cell_type": "markdown",
      "metadata": {
        "id": "AW2X07AXeVcF"
      },
      "source": [
        "#Laboratorio 5 - Redes Neuronales\n",
        "\n",
        "Estudiante: Duran Llaveta Noelia Paola\n",
        "\n",
        "Link github:\n",
        "\n",
        "Se aplicó las redes neuronales al dataset US_births con el fin de predecir a través de 43 caracteristicas que peso tendrá un bebé al nacer."
      ]
    },
    {
      "cell_type": "code",
      "execution_count": null,
      "metadata": {
        "id": "stUHtyXwtUTc"
      },
      "outputs": [],
      "source": [
        "# used for manipulating directory paths\n",
        "import os\n",
        "\n",
        "# Scientific and vector computation for python\n",
        "import numpy as np\n",
        "\n",
        "# Plotting library\n",
        "from matplotlib import pyplot\n",
        "\n",
        "# Optimization module in scipy\n",
        "from scipy import optimize\n",
        "\n",
        "%matplotlib inline\n",
        "\n",
        "import pandas as pd\n"
      ]
    },
    {
      "cell_type": "code",
      "execution_count": null,
      "metadata": {
        "id": "SHyrfx8EntyU",
        "colab": {
          "base_uri": "https://localhost:8080/"
        },
        "outputId": "aac9bb72-bda3-4992-fcd0-c09b8c4ad9ae"
      },
      "outputs": [
        {
          "output_type": "stream",
          "name": "stdout",
          "text": [
            "Mounted at /content/drive\n"
          ]
        }
      ],
      "source": [
        "from google.colab import drive\n",
        "drive.mount('/content/drive')"
      ]
    },
    {
      "cell_type": "code",
      "execution_count": null,
      "metadata": {
        "id": "lLMugHaxnlUa",
        "colab": {
          "base_uri": "https://localhost:8080/"
        },
        "outputId": "e2d21811-fd57-4fa8-ad3b-ca65e1ae000b"
      },
      "outputs": [
        {
          "output_type": "stream",
          "name": "stderr",
          "text": [
            "<ipython-input-5-90be6126bd82>:2: DtypeWarning: Columns (7) have mixed types. Specify dtype option on import or set low_memory=False.\n",
            "  df = pd.read_csv('/content/drive/MyDrive/SIS420/datasets/US_births(2018).csv', delimiter=',')\n"
          ]
        }
      ],
      "source": [
        "# Leer datos\n",
        "df = pd.read_csv('/content/drive/MyDrive/SIS420/datasets/US_births(2018).csv', delimiter=',')"
      ]
    },
    {
      "cell_type": "code",
      "execution_count": null,
      "metadata": {
        "id": "GhiUwtKnule0",
        "colab": {
          "base_uri": "https://localhost:8080/"
        },
        "outputId": "6027e692-152e-48dc-8a8d-5b08529b3a1e"
      },
      "outputs": [
        {
          "output_type": "stream",
          "name": "stdout",
          "text": [
            "drive  sample_data\n",
            "data  drive  sample_data\n"
          ]
        }
      ],
      "source": [
        "!ls\n",
        "%mkdir data\n",
        "!ls"
      ]
    },
    {
      "cell_type": "code",
      "execution_count": null,
      "metadata": {
        "id": "ZdNP-OaBtlmp"
      },
      "outputs": [],
      "source": [
        "import sys\n",
        "import shutil"
      ]
    },
    {
      "cell_type": "markdown",
      "metadata": {
        "id": "LCWv5-f8pH1W"
      },
      "source": [
        "# Procesamiento de datos"
      ]
    },
    {
      "cell_type": "code",
      "execution_count": null,
      "metadata": {
        "colab": {
          "base_uri": "https://localhost:8080/"
        },
        "id": "a1urWqmYvPE3",
        "outputId": "09da0748-9414-4f33-9eec-ebb4a3fdbeea"
      },
      "outputs": [
        {
          "output_type": "stream",
          "name": "stdout",
          "text": [
            "Cantidad de datos en cada columna: \n",
            "ATTEND         3801534\n",
            "BFACIL         3801534\n",
            "BMI            3801534\n",
            "CIG_0          3801534\n",
            "DBWT           3801534\n",
            "DLMP_MM        3801534\n",
            "DLMP_YY        3801534\n",
            "DMAR           3801534\n",
            "DOB_MM         3801534\n",
            "DOB_TT         3801534\n",
            "DOB_WK         3801534\n",
            "DOB_YY         3801534\n",
            "DWgt_R         3801534\n",
            "FAGECOMB       3801534\n",
            "FEDUC          3801534\n",
            "FHISPX         3801534\n",
            "FRACE15        3801534\n",
            "FRACE31        3801534\n",
            "FRACE6         3801534\n",
            "ILLB_R         3801534\n",
            "ILOP_R         3801534\n",
            "ILP_R          3801534\n",
            "IMP_SEX        3801534\n",
            "IP_GON         3801534\n",
            "LD_INDL        3801534\n",
            "MAGER          3801534\n",
            "MAGE_IMPFLG    3801534\n",
            "MAR_IMP        3801534\n",
            "MBSTATE_REC    3801534\n",
            "MEDUC          3801534\n",
            "MHISPX         3801534\n",
            "MM_AICU        3801534\n",
            "MRACE15        3801534\n",
            "MRACE31        3801534\n",
            "MRACEIMP       3801534\n",
            "MRAVE6         3801534\n",
            "MTRAN          3801534\n",
            "M_Ht_In        3801534\n",
            "NO_INFEC       3801534\n",
            "NO_MMORB       3801534\n",
            "NO_RISKS       3801534\n",
            "PAY            3801534\n",
            "PAY_REC        3801534\n",
            "PRECARE        3801534\n",
            "PREVIS         3801534\n",
            "PRIORDEAD      3801534\n",
            "PRIORLIVE      3801534\n",
            "PRIORTERM      3801534\n",
            "PWgt_R         3801534\n",
            "RDMETH_REC     3801534\n",
            "RESTATUS       3801534\n",
            "RF_CESAR       3801534\n",
            "RF_CESARN      3801534\n",
            "SEX            3801534\n",
            "WTGAIN         3801534\n",
            "dtype: int64\n"
          ]
        }
      ],
      "source": [
        "# Obtener la cantidad de datos no nulos en cada columna\n",
        "column_counts_before = df.count()\n",
        "\n",
        "# Imprimir la cantidad de datos en cada columna\n",
        "print(\"Cantidad de datos en cada columna: \")\n",
        "print(column_counts_before)"
      ]
    },
    {
      "cell_type": "code",
      "execution_count": null,
      "metadata": {
        "colab": {
          "base_uri": "https://localhost:8080/"
        },
        "id": "_rxeUzQTvc6z",
        "outputId": "98465343-c0b7-4e1d-b5d0-6331635355a9"
      },
      "outputs": [
        {
          "output_type": "stream",
          "name": "stdout",
          "text": [
            "ATTEND           int64\n",
            "BFACIL           int64\n",
            "BMI            float64\n",
            "CIG_0            int64\n",
            "DBWT             int64\n",
            "DLMP_MM          int64\n",
            "DLMP_YY          int64\n",
            "DMAR            object\n",
            "DOB_MM           int64\n",
            "DOB_TT           int64\n",
            "DOB_WK           int64\n",
            "DOB_YY           int64\n",
            "DWgt_R           int64\n",
            "FAGECOMB         int64\n",
            "FEDUC            int64\n",
            "FHISPX           int64\n",
            "FRACE15          int64\n",
            "FRACE31          int64\n",
            "FRACE6           int64\n",
            "ILLB_R           int64\n",
            "ILOP_R           int64\n",
            "ILP_R            int64\n",
            "IMP_SEX         object\n",
            "IP_GON          object\n",
            "LD_INDL         object\n",
            "MAGER            int64\n",
            "MAGE_IMPFLG     object\n",
            "MAR_IMP         object\n",
            "MBSTATE_REC      int64\n",
            "MEDUC            int64\n",
            "MHISPX           int64\n",
            "MM_AICU         object\n",
            "MRACE15          int64\n",
            "MRACE31          int64\n",
            "MRACEIMP        object\n",
            "MRAVE6           int64\n",
            "MTRAN           object\n",
            "M_Ht_In          int64\n",
            "NO_INFEC         int64\n",
            "NO_MMORB         int64\n",
            "NO_RISKS         int64\n",
            "PAY              int64\n",
            "PAY_REC          int64\n",
            "PRECARE          int64\n",
            "PREVIS           int64\n",
            "PRIORDEAD        int64\n",
            "PRIORLIVE        int64\n",
            "PRIORTERM        int64\n",
            "PWgt_R           int64\n",
            "RDMETH_REC       int64\n",
            "RESTATUS         int64\n",
            "RF_CESAR        object\n",
            "RF_CESARN        int64\n",
            "SEX             object\n",
            "WTGAIN           int64\n",
            "dtype: object\n"
          ]
        }
      ],
      "source": [
        "import pandas as pd\n",
        "\n",
        "# Obtener los tipos de datos de cada columna\n",
        "tipos_de_dato = df.dtypes\n",
        "\n",
        "print(tipos_de_dato)\n"
      ]
    },
    {
      "cell_type": "code",
      "execution_count": null,
      "metadata": {
        "colab": {
          "base_uri": "https://localhost:8080/"
        },
        "id": "bHU2lHpwnf0K",
        "outputId": "ee33a83a-70d4-4cf2-85d0-0e1570f31093"
      },
      "outputs": [
        {
          "output_type": "stream",
          "name": "stdout",
          "text": [
            "   ATTEND  BFACIL   BMI  CIG_0  DBWT  DLMP_MM  DLMP_YY  DOB_MM  DOB_TT  \\\n",
            "0       1       1  30.7      0  3657        4     2017       1    1227   \n",
            "1       1       1  33.3      2  3242       99     9999       1    1704   \n",
            "2       1       1  30.0      0  3470        4     2017       1     336   \n",
            "3       3       1  23.7      0  3140        5     2017       1     938   \n",
            "4       1       1  35.5      0  2125       99     9999       1     830   \n",
            "\n",
            "   DOB_WK  ...  PRECARE  PREVIS  PRIORDEAD  PRIORLIVE  PRIORTERM  PWgt_R  \\\n",
            "0       2  ...        3       8          0          1          2     190   \n",
            "1       2  ...        3       9          0          2          0     188   \n",
            "2       2  ...        5      17          0          1          0     215   \n",
            "3       2  ...        5       6          0          2          0     138   \n",
            "4       3  ...        5      15          0          1          4     220   \n",
            "\n",
            "   RDMETH_REC  RESTATUS  RF_CESARN  WTGAIN  \n",
            "0           1         2          0      41  \n",
            "1           4         2          2       0  \n",
            "2           1         1          0      58  \n",
            "3           1         2          0       0  \n",
            "4           3         1          0       0  \n",
            "\n",
            "[5 rows x 44 columns]\n"
          ]
        }
      ],
      "source": [
        "# Seleccionar las columnas necesarias para X y y\n",
        "selected_columns = ['ATTEND', 'BFACIL', 'BMI', 'CIG_0', 'DBWT', 'DLMP_MM', 'DLMP_YY',\n",
        "                    'DOB_MM', 'DOB_TT', 'DOB_WK', 'DOB_YY', 'DWgt_R', 'FAGECOMB', 'FEDUC',\n",
        "                    'FHISPX', 'FRACE15', 'FRACE31', 'FRACE6', 'ILLB_R', 'ILOP_R', 'ILP_R'\n",
        "                    , 'MAGER', 'MBSTATE_REC',\n",
        "                    'MEDUC', 'MHISPX', 'MRACE15', 'MRACE31', 'MRAVE6',\n",
        "                    'M_Ht_In', 'NO_INFEC', 'NO_MMORB', 'NO_RISKS', 'PAY', 'PAY_REC', 'PRECARE', 'PREVIS',\n",
        "                    'PRIORDEAD', 'PRIORLIVE', 'PRIORTERM', 'PWgt_R', 'RDMETH_REC', 'RESTATUS',\n",
        "                    'RF_CESARN', 'WTGAIN'\n",
        "]\n",
        "\n",
        "\n",
        "# Crear un nuevo DataFrame con las columnas seleccionadas\n",
        "df_selected = df[selected_columns]\n",
        "\n",
        "# Mostrar las primeras filas del nuevo DataFrame\n",
        "print(df_selected.head())"
      ]
    },
    {
      "cell_type": "code",
      "execution_count": null,
      "metadata": {
        "colab": {
          "base_uri": "https://localhost:8080/"
        },
        "id": "zM6qhkRUwqA5",
        "outputId": "d3030011-3825-4929-f52b-86f600fb0e3e"
      },
      "outputs": [
        {
          "output_type": "stream",
          "name": "stdout",
          "text": [
            "ATTEND           int64\n",
            "BFACIL           int64\n",
            "BMI            float64\n",
            "CIG_0            int64\n",
            "DBWT             int64\n",
            "DLMP_MM          int64\n",
            "DLMP_YY          int64\n",
            "DOB_MM           int64\n",
            "DOB_TT           int64\n",
            "DOB_WK           int64\n",
            "DOB_YY           int64\n",
            "DWgt_R           int64\n",
            "FAGECOMB         int64\n",
            "FEDUC            int64\n",
            "FHISPX           int64\n",
            "FRACE15          int64\n",
            "FRACE31          int64\n",
            "FRACE6           int64\n",
            "ILLB_R           int64\n",
            "ILOP_R           int64\n",
            "ILP_R            int64\n",
            "MAGER            int64\n",
            "MBSTATE_REC      int64\n",
            "MEDUC            int64\n",
            "MHISPX           int64\n",
            "MRACE15          int64\n",
            "MRACE31          int64\n",
            "MRAVE6           int64\n",
            "M_Ht_In          int64\n",
            "NO_INFEC         int64\n",
            "NO_MMORB         int64\n",
            "NO_RISKS         int64\n",
            "PAY              int64\n",
            "PAY_REC          int64\n",
            "PRECARE          int64\n",
            "PREVIS           int64\n",
            "PRIORDEAD        int64\n",
            "PRIORLIVE        int64\n",
            "PRIORTERM        int64\n",
            "PWgt_R           int64\n",
            "RDMETH_REC       int64\n",
            "RESTATUS         int64\n",
            "RF_CESARN        int64\n",
            "WTGAIN           int64\n",
            "dtype: object\n"
          ]
        }
      ],
      "source": [
        "\n",
        "# Obtener los tipos de dato de cada columna en el nuevo DataFrame\n",
        "tipos_de_dato = df_selected.dtypes\n",
        "\n",
        "print(tipos_de_dato)"
      ]
    },
    {
      "cell_type": "code",
      "execution_count": null,
      "metadata": {
        "id": "xWWa5wxanf3B"
      },
      "outputs": [],
      "source": [
        "data = df_selected"
      ]
    },
    {
      "cell_type": "markdown",
      "metadata": {
        "id": "ONiY1v_rpPCu"
      },
      "source": [
        "# Seleccion de datos"
      ]
    },
    {
      "cell_type": "code",
      "execution_count": null,
      "metadata": {
        "colab": {
          "base_uri": "https://localhost:8080/"
        },
        "id": "TMcorHaInf_S",
        "outputId": "a4804ce1-2168-4f1c-8750-be1763df3f1d"
      },
      "outputs": [
        {
          "output_type": "stream",
          "name": "stdout",
          "text": [
            "(3041227, 43)\n",
            "(3041227,)\n",
            "(760307, 43)\n",
            "(760307,)\n",
            "[3657 3242 3470 ... 3629 3374  960]\n"
          ]
        }
      ],
      "source": [
        "# columnas relevantes para X\n",
        "features = ['ATTEND', 'BFACIL', 'BMI', 'CIG_0', 'DLMP_MM', 'DLMP_YY',\n",
        "                    'DOB_MM', 'DOB_TT', 'DOB_WK', 'DOB_YY', 'DWgt_R', 'FAGECOMB', 'FEDUC',\n",
        "                    'FHISPX', 'FRACE15', 'FRACE31', 'FRACE6', 'ILLB_R', 'ILOP_R', 'ILP_R'\n",
        "                    , 'MAGER', 'MBSTATE_REC',\n",
        "                    'MEDUC', 'MHISPX', 'MRACE15', 'MRACE31', 'MRAVE6',\n",
        "                    'M_Ht_In', 'NO_INFEC', 'NO_MMORB', 'NO_RISKS', 'PAY', 'PAY_REC', 'PRECARE', 'PREVIS',\n",
        "                    'PRIORDEAD', 'PRIORLIVE', 'PRIORTERM', 'PWgt_R', 'RDMETH_REC', 'RESTATUS',\n",
        "                    'RF_CESARN', 'WTGAIN'\n",
        "                    ]\n",
        "X = data[features].values\n",
        "\n",
        "# Phising' para y\n",
        "y = data['DBWT'].values\n",
        "\n",
        "# Dividir los datos en entrenamiento y prueba (80% entrenamiento, 20% prueba)\n",
        "train_size = int(0.8 * len(data))\n",
        "Xp, yp = X[train_size:], y[train_size:]\n",
        "X, y = X[:train_size], y[:train_size]\n",
        "\n",
        "\n",
        "m_train = len(y)\n",
        "\n",
        "m = y.size\n",
        "\n",
        "# Imprimir las formas de los datos\n",
        "print(X.shape)\n",
        "print(y.shape)\n",
        "print(Xp.shape)\n",
        "print(yp.shape)\n",
        "\n",
        "# Imprimir las etiquetas de entrenamiento\n",
        "print(y)"
      ]
    },
    {
      "cell_type": "code",
      "execution_count": null,
      "metadata": {
        "colab": {
          "base_uri": "https://localhost:8080/"
        },
        "id": "1GUbntIPuZb_",
        "outputId": "ca21ef00-5b91-43ec-801b-332e51a84e1c"
      },
      "outputs": [
        {
          "output_type": "stream",
          "name": "stdout",
          "text": [
            "[[1.000e+00 1.000e+00 3.660e+01 0.000e+00 6.000e+00 2.017e+03 3.000e+00\n",
            "  1.038e+03 5.000e+00 2.018e+03 2.260e+02 4.000e+01 3.000e+00 4.000e+00\n",
            "  9.900e+01 9.900e+01 9.000e+00 8.400e+01 8.880e+02 8.400e+01 3.700e+01\n",
            "  1.000e+00 5.000e+00 1.000e+00 1.000e+00 1.000e+00 1.000e+00 6.500e+01\n",
            "  1.000e+00 1.000e+00 0.000e+00 1.000e+00 1.000e+00 4.000e+00 1.000e+01\n",
            "  0.000e+00 1.000e+00 0.000e+00 2.200e+02 4.000e+00 1.000e+00 1.000e+00\n",
            "  6.000e+00]]\n"
          ]
        }
      ],
      "source": [
        "# prompt: head xp\n",
        "\n",
        "print(Xp[0:1])\n"
      ]
    },
    {
      "cell_type": "code",
      "execution_count": null,
      "metadata": {
        "colab": {
          "base_uri": "https://localhost:8080/"
        },
        "id": "LZ5ih9vb3b6j",
        "outputId": "21c79305-0a15-4397-ba17-763c1175a723"
      },
      "outputs": [
        {
          "output_type": "stream",
          "name": "stdout",
          "text": [
            "[3410]\n"
          ]
        }
      ],
      "source": [
        "print(yp[0:1])"
      ]
    },
    {
      "cell_type": "markdown",
      "metadata": {
        "id": "zLgR1RNqpU1P"
      },
      "source": [
        "# Configuracion de capas"
      ]
    },
    {
      "cell_type": "code",
      "execution_count": null,
      "metadata": {
        "colab": {
          "base_uri": "https://localhost:8080/"
        },
        "id": "qxaVHmxAngCS",
        "outputId": "b4221a83-4189-43d2-8a57-95966b562340"
      },
      "outputs": [
        {
          "output_type": "stream",
          "name": "stdout",
          "text": [
            "la cantidad de elementos en la capa de entrada es:  43\n",
            "la cantidad de elementos en la capa de oculta es:  7\n",
            "la cantidad de elementos en la capa de salida es:  1\n"
          ]
        }
      ],
      "source": [
        "# Configurando las capas de\n",
        "input_layer_size  = 43   # Entrada de 18 características, sin contar id\n",
        "hidden_layer_size = 7   # 10 unidades ocultas(es un hiperparametro, controla la complejidad del modelo)\n",
        "#output_layer_size\n",
        "num_labels = 1    # Una sola salida (precio)\n",
        "\n",
        "print(\"la cantidad de elementos en la capa de entrada es: \",input_layer_size)\n",
        "print(\"la cantidad de elementos en la capa de oculta es: \",hidden_layer_size)\n",
        "print(\"la cantidad de elementos en la capa de salida es: \",num_labels)\n",
        "\n"
      ]
    },
    {
      "cell_type": "code",
      "execution_count": null,
      "metadata": {
        "id": "h9lBc7YRpgZD"
      },
      "outputs": [],
      "source": []
    },
    {
      "cell_type": "markdown",
      "metadata": {
        "id": "Wy87VfkwpfLr"
      },
      "source": [
        "# Inicializacion de parametros theta"
      ]
    },
    {
      "cell_type": "code",
      "execution_count": null,
      "metadata": {
        "colab": {
          "base_uri": "https://localhost:8080/"
        },
        "id": "-F86aYlpngFK",
        "outputId": "ce285576-f035-43c6-f730-c3847b898807"
      },
      "outputs": [
        {
          "output_type": "stream",
          "name": "stdout",
          "text": [
            "(308,)\n",
            "(8,)\n"
          ]
        }
      ],
      "source": [
        "# Inicializa los pesos en las variables Theta1 y Theta2\n",
        "pesos = {}\n",
        "pesos['Theta1'] = np.random.rand(hidden_layer_size , input_layer_size + 1) #+1 porque se incluye el sesgo\n",
        "pesos['Theta2'] = np.random.rand(num_labels, hidden_layer_size + 1) #+1 porque se incluye el sesgo\n",
        "\n",
        "# Carga los pesos en las variables Theta1 y Theta2\n",
        "Theta1, Theta2 = pesos['Theta1'], pesos['Theta2']\n",
        "\n",
        "# Con valores pequeños alatorios\n",
        "print(Theta1.ravel().shape)\n",
        "print(Theta2.ravel().shape)\n"
      ]
    },
    {
      "cell_type": "code",
      "execution_count": null,
      "metadata": {
        "colab": {
          "base_uri": "https://localhost:8080/"
        },
        "id": "Y7nSprhjngH6",
        "outputId": "502afe4a-d840-4659-946b-a0be4823a4c5"
      },
      "outputs": [
        {
          "output_type": "stream",
          "name": "stdout",
          "text": [
            "(316,)\n"
          ]
        }
      ],
      "source": [
        "# Concatenación de thetas en un solo array\n",
        "nn_params = np.concatenate([Theta1.ravel(), Theta2.ravel()])\n",
        "print(nn_params.shape)"
      ]
    },
    {
      "cell_type": "markdown",
      "metadata": {
        "id": "NKOTxABMpldK"
      },
      "source": [
        "# Sigmoide y gradiente"
      ]
    },
    {
      "cell_type": "code",
      "execution_count": null,
      "metadata": {
        "id": "IYkAveQh0e87"
      },
      "outputs": [],
      "source": [
        "def linear_activation(z):\n",
        "    \"\"\"Función de activación lineal.\"\"\"\n",
        "    return z\n",
        "\n",
        "def linear_gradient(z):\n",
        "    \"\"\"Gradiente de la función de activación lineal (siempre es 1).\"\"\"\n",
        "    return np.ones_like(z)"
      ]
    },
    {
      "cell_type": "markdown",
      "metadata": {
        "id": "f9HikytHpuiT"
      },
      "source": [
        "# Funcion de costo"
      ]
    },
    {
      "cell_type": "code",
      "execution_count": null,
      "metadata": {
        "id": "Aevzq-rt0vKn"
      },
      "outputs": [],
      "source": [
        "def nnCostFunction(nn_params,\n",
        "                   input_layer_size,\n",
        "                   hidden_layer_size,\n",
        "                   num_labels,\n",
        "                   X, y, lambda_=0.0):\n",
        "    \"\"\"\n",
        "    Calcula la función de costo y gradientes para una red neuronal de dos capas.\n",
        "\n",
        "    Parámetros:\n",
        "    nn_params : array_like\n",
        "        Parámetros de la red neuronal desenrollados en un único vector.\n",
        "    input_layer_size : int\n",
        "        Tamaño de la capa de entrada.\n",
        "    hidden_layer_size : int\n",
        "        Tamaño de la capa oculta.\n",
        "    num_labels : int\n",
        "        Número de etiquetas (clases).\n",
        "    X : array_like\n",
        "        Datos de entrenamiento.\n",
        "    y : array_like\n",
        "        Etiquetas de entrenamiento.\n",
        "    lambda_ : float, opcional\n",
        "        Parámetro de regularización.\n",
        "\n",
        "    Devuelve:\n",
        "    J : float\n",
        "        Valor de la función de costo.\n",
        "    grad : array_like\n",
        "        Gradientes de los parámetros de la red neuronal.\n",
        "    \"\"\"\n",
        "\n",
        "    # Reshape nn_params para obtener Theta1 y Theta2\n",
        "    Theta1 = np.reshape(nn_params[:hidden_layer_size * (input_layer_size + 1)],\n",
        "                        (hidden_layer_size, (input_layer_size + 1)))\n",
        "    Theta2 = np.reshape(nn_params[(hidden_layer_size * (input_layer_size + 1)):],\n",
        "                        (num_labels, (hidden_layer_size + 1)))\n",
        "\n",
        "    m = y.size  # Número de ejemplos de entrenamiento\n",
        "\n",
        "    J = 0\n",
        "    Theta1_grad = np.zeros(Theta1.shape)\n",
        "    Theta2_grad = np.zeros(Theta2.shape)\n",
        "\n",
        "    # Propagación hacia adelante\n",
        "    a1 = np.concatenate([np.ones((m, 1)), X], axis=1)  # Agregar sesgo a los datos de entrada\n",
        "    z2 = a1.dot(Theta1.T)  # Calcular la salida de la capa oculta\n",
        "    a2 = linear_activation(z2)  # Aplicar función de activación a la salida de la capa oculta\n",
        "    a2 = np.concatenate([np.ones((a2.shape[0], 1)), a2], axis=1)  # Agregar sesgo a la salida de la capa oculta\n",
        "    z3 = a2.dot(Theta2.T)  # Calcular la salida de la capa de salida\n",
        "    a3 = linear_activation(z3)  # Aplicar función de activación a la salida de la capa de salida\n",
        "\n",
        "    # Asegurar que y tenga la forma adecuada\n",
        "    y = y.reshape(-1, 1)\n",
        "\n",
        "    # Función de costo\n",
        "    reg_term = (lambda_ / (2 * m)) * (np.sum(np.square(Theta1[:, 1:])) + np.sum(np.square(Theta2[:, 1:])))\n",
        "    J = (1 / (2 * m)) * np.sum(np.square(a3 - y))\n",
        "    J += reg_term\n",
        "\n",
        "    # Retropropagación=propagar el error desde la capa de salida hasta la capa de entrada de la red\n",
        "    delta_3 = a3 - y  # Calcular el error en la capa de salida\n",
        "    delta_2 = delta_3.dot(Theta2)[:, 1:] * linear_gradient(z2)  # Calcular el error en la capa oculta\n",
        "\n",
        "    Delta1 = delta_2.T.dot(a1)  # Calcular la acumulación de gradientes para Theta1\n",
        "    Delta2 = delta_3.T.dot(a2)  # Calcular la acumulación de gradientes para Theta2\n",
        "\n",
        "    # Regularización de gradientes\n",
        "    Theta1_grad = (1 / m) * Delta1\n",
        "    Theta1_grad[:, 1:] += (lambda_ / m) * Theta1[:, 1:]\n",
        "    Theta2_grad = (1 / m) * Delta2\n",
        "    Theta2_grad[:, 1:] += (lambda_ / m) * Theta2[:, 1:]\n",
        "\n",
        "    # Desenrollar gradientes\n",
        "    grad = np.concatenate([Theta1_grad.ravel(), Theta2_grad.ravel()])\n",
        "\n",
        "    return J, grad\n"
      ]
    },
    {
      "cell_type": "markdown",
      "metadata": {
        "id": "dFpL_kgRpxsK"
      },
      "source": [
        "# Normalizacion"
      ]
    },
    {
      "cell_type": "code",
      "execution_count": null,
      "metadata": {
        "id": "k7BWhibBYtps"
      },
      "outputs": [],
      "source": [
        "def  featureNormalize(X):\n",
        "    X_norm = X.copy()\n",
        "\n",
        "    #creamos un array de ceros con una longitud igual al número de columnas en el array x\n",
        "    mu = np.zeros(X.shape[1])\n",
        "    sigma = np.zeros(X.shape[1])\n",
        "\n",
        "    #promedio de cada columna\n",
        "    mu = np.mean(X, axis = 0)\n",
        "    sigma = np.std(X, axis = 0)\n",
        "\n",
        "    sigma[sigma == 0] = 1\n",
        "\n",
        "    #normalizacion\n",
        "    X_norm = (X - mu) / sigma\n",
        "\n",
        "    return X_norm, mu, sigma"
      ]
    },
    {
      "cell_type": "code",
      "execution_count": null,
      "metadata": {
        "id": "WECsyynYYtss"
      },
      "outputs": [],
      "source": [
        "X_norm, mu, sigma = featureNormalize(X)"
      ]
    },
    {
      "cell_type": "code",
      "execution_count": null,
      "metadata": {
        "colab": {
          "base_uri": "https://localhost:8080/"
        },
        "id": "pqca5l3SYtvf",
        "outputId": "39bf8d9b-74e8-44e4-f5a7-9fb7736bd035"
      },
      "outputs": [
        {
          "output_type": "stream",
          "name": "stdout",
          "text": [
            "Longitud de nn_params: 316\n",
            "Expected size for Theta2: 8\n"
          ]
        }
      ],
      "source": [
        "print(\"Longitud de nn_params:\", len(nn_params))\n",
        "print(\"Expected size for Theta2:\", (hidden_layer_size + 1) * num_labels)"
      ]
    },
    {
      "cell_type": "markdown",
      "metadata": {
        "id": "gGfAAfTzXcLd"
      },
      "source": [
        "# Calculo de costo(lambda)"
      ]
    },
    {
      "cell_type": "code",
      "execution_count": null,
      "metadata": {
        "colab": {
          "base_uri": "https://localhost:8080/"
        },
        "id": "jL2DKmmTYtyS",
        "outputId": "cedc7d53-5824-4ade-f8f4-d6c0ea4bd411"
      },
      "outputs": [
        {
          "output_type": "stream",
          "name": "stdout",
          "text": [
            "Costo en parametros (cargado de ex4weights): 5526764.728496 \n",
            "El costo debe esta cercano a               : \n"
          ]
        }
      ],
      "source": [
        "#calculo costo\n",
        "#lambda=10= 210668998573.230896\n",
        "#lambda=100= 210669008419.584686\n",
        "#lambda=1000=210669106883.122620\n",
        "#lambda=10000=210670091518.501831\n",
        "\n",
        "lambda_ = 100000\n",
        "J, _ = nnCostFunction(nn_params, input_layer_size, hidden_layer_size, num_labels, X_norm, y, lambda_)\n",
        "print('Costo en parametros (cargado de ex4weights): %.6f ' % J)\n",
        "print('El costo debe esta cercano a               : ')"
      ]
    },
    {
      "cell_type": "markdown",
      "metadata": {
        "id": "4dle350XXj03"
      },
      "source": [
        "# Inicialización de los pesos de la una capa"
      ]
    },
    {
      "cell_type": "code",
      "execution_count": null,
      "metadata": {
        "id": "EnKgJRZq-x3U"
      },
      "outputs": [],
      "source": [
        "def randInitializeWeights(L_in, L_out, epsilon_init=0.12):\n",
        "    W = np.zeros((L_out, 1 + L_in))  # Inicializar la matriz de pesos con ceros\n",
        "    W = np.random.rand(L_out, 1 + L_in) * 2 * epsilon_init - epsilon_init  # Inicializar aleatoriamente los pesos en el rango (-epsilon_init, epsilon_init)\n",
        "\n",
        "    return W\n"
      ]
    },
    {
      "cell_type": "code",
      "execution_count": null,
      "metadata": {
        "colab": {
          "base_uri": "https://localhost:8080/"
        },
        "id": "znk_8rO0-6fE",
        "outputId": "0c02b892-8ca1-40b2-b5ef-85d9c29e4724"
      },
      "outputs": [
        {
          "output_type": "stream",
          "name": "stdout",
          "text": [
            "Inicialización de parámetros de redes neuronales...\n"
          ]
        }
      ],
      "source": [
        "print('Inicialización de parámetros de redes neuronales...')\n",
        "\n",
        "# Inicializar pesos de la capa oculta y de salida\n",
        "initial_Theta1 = randInitializeWeights(input_layer_size, hidden_layer_size)\n",
        "initial_Theta2 = randInitializeWeights(hidden_layer_size, num_labels)\n",
        "\n",
        "# Desenrrollar parámetros\n",
        "initial_nn_params = np.concatenate([initial_Theta1.ravel(), initial_Theta2.ravel()], axis=0)\n"
      ]
    },
    {
      "cell_type": "markdown",
      "metadata": {
        "id": "DGpPdR9mYBlH"
      },
      "source": [
        "# Entrenamiento"
      ]
    },
    {
      "cell_type": "code",
      "execution_count": null,
      "metadata": {
        "colab": {
          "base_uri": "https://localhost:8080/"
        },
        "id": "-ysYL_hX_D0k",
        "outputId": "4444b670-2c27-458a-f1cd-781cca2a26b3"
      },
      "outputs": [
        {
          "output_type": "stream",
          "name": "stderr",
          "text": [
            "<ipython-input-28-33e3a86d77ff>:15: OptimizeWarning: Unknown solver options: maxiter\n",
            "  res = optimize.minimize(costFunction,\n"
          ]
        }
      ],
      "source": [
        "#entrenamiento con el uso de la funcion optimize.minimize\n",
        "# Después de completar la tarea, cambia el valor de maxiter a uno más grande\n",
        "options= {'maxiter': 1000} #iteracciones\n",
        "\n",
        "#\n",
        "lambda_ = 100\n",
        "\n",
        "# Crear una versión abreviada de la función de costo a minimizar\n",
        "costFunction = lambda p: nnCostFunction(p, input_layer_size,\n",
        "                                        hidden_layer_size,\n",
        "                                        num_labels, X, y, lambda_)\n",
        "\n",
        "# Ahora, costFunction es una función que toma solo un argumento\n",
        "# (los parámetros de la red neuronal)\n",
        "res = optimize.minimize(costFunction,\n",
        "                        initial_nn_params,\n",
        "                        jac=True,\n",
        "                        method='TNC',\n",
        "                        options=options)\n",
        "\n",
        "# Obtener la solución de la optimización\n",
        "nn_params = res.x #almacenan\n",
        "\n",
        "# Obtener Theta1 y Theta2 a partir de nn_params\n",
        "Theta1 = np.reshape(nn_params[:hidden_layer_size * (input_layer_size + 1)],\n",
        "                    (hidden_layer_size, (input_layer_size + 1)))\n",
        "\n",
        "Theta2 = np.reshape(nn_params[(hidden_layer_size * (input_layer_size + 1)):],\n",
        "                    (num_labels, (hidden_layer_size + 1)))\n"
      ]
    },
    {
      "cell_type": "markdown",
      "metadata": {
        "id": "BewS5MkfYsV0"
      },
      "source": [
        "# Parametros theta1 y theta2"
      ]
    },
    {
      "cell_type": "code",
      "execution_count": null,
      "metadata": {
        "id": "SbxwcCaNekX9",
        "colab": {
          "base_uri": "https://localhost:8080/"
        },
        "outputId": "30e73b41-18c9-4089-99ab-e43acda8050e"
      },
      "outputs": [
        {
          "output_type": "stream",
          "name": "stdout",
          "text": [
            "Thetha 0 es:  [ 0.3322311  -2.99229443 -1.57665784  0.08124883  0.29027384 -0.39654123\n",
            " -0.21953522  0.13255543 -0.14398697  0.32106544 -0.48828546  0.04642344\n",
            "  0.4403891  -0.42476575  0.69002496 -0.17060151 -0.17364474  4.2616435\n",
            " -0.01945697 -0.02676581 -0.14419048  0.31096639 -1.8539528  -1.9797077\n",
            " -0.17923994 -2.29441819 -0.19083644  5.46558595 -1.66495403  0.04284106\n",
            " -2.12481526 -3.3611293  -0.55194478 -2.82237814  0.28073327 -0.20675162\n",
            "  0.11161459 -0.60215709  0.18223109  0.14262656  2.47220865  2.02590339\n",
            " -0.22413258 -0.21119528]\n",
            "\n",
            "Thetha 1 es:  [ 0.34953109 -1.60529321 -0.80468591  0.20477612  0.18549925 -0.39330227\n",
            "  0.3023394  -0.0632551   0.40050949  0.25769966  0.16755793  0.43949315\n",
            "  0.26069081 -0.40816756  0.37359873  0.05080068 -0.13200182  2.30807424\n",
            "  0.15768133  0.17636653  0.18225877  0.3697505  -1.01845017 -1.08277129\n",
            " -0.02747729 -1.18703632 -0.12702428  2.98470774 -1.15251304  0.04906062\n",
            " -1.1551417  -1.86195772 -0.23778901 -1.4523425   0.06400417 -0.10975095\n",
            "  0.03108574 -0.34328104  0.07599718  0.15774844  1.11955877  0.98854476\n",
            " -0.16139973 -0.10737903]\n",
            "\n",
            "Thetha 2 es:  [ 3.27142558e-01 -3.16382917e+00 -1.54673464e+00  7.41870823e-02\n",
            "  4.63242882e-01 -3.62899288e-01  3.77311943e-01  1.52090751e-01\n",
            "  1.76979208e-01  4.62888232e-01  2.54038388e-01  1.00329576e-01\n",
            "  6.48689346e-01 -4.13468186e-01  6.68988664e-01 -3.80551300e-01\n",
            " -1.16424813e-01  4.10405659e+00  4.90017970e-02  4.20995964e-02\n",
            "  8.92834754e-02  2.89839813e-01 -1.84959528e+00 -2.21139697e+00\n",
            " -1.77611187e-01 -2.18713798e+00 -2.02086691e-01  5.58358196e+00\n",
            " -1.49487761e+00  5.15152982e-02 -2.08454483e+00 -3.29542877e+00\n",
            " -4.66721638e-01 -2.81911261e+00  1.47989597e-01 -2.44338330e-01\n",
            "  6.96195303e-02 -4.93389535e-01  1.48202337e-01  2.52307666e-01\n",
            "  2.52664439e+00  1.92313800e+00 -2.83000426e-01 -5.29273332e-03]\n",
            "\n",
            "Thetha 3 es:  [ 0.16701105 -2.97071544 -1.61809782  0.1093615   0.3203678  -0.41684942\n",
            " -0.51114618  0.01721485 -0.0693695   0.43188794 -0.65776062 -0.05749285\n",
            "  0.45860655 -0.49952339  0.80819885 -0.1448501  -0.2848337   3.62338649\n",
            " -0.06025751 -0.03230846 -0.01329718  0.24595977 -1.8678487  -1.87512722\n",
            " -0.17670384 -2.1262914  -0.22642048  5.65227229 -1.52033778  0.03508312\n",
            " -2.11643978 -3.45296311 -0.46460746 -2.79240702  0.27688641 -0.14427404\n",
            "  0.01061631 -0.50848256  0.04552514  0.07896084  2.71263584  1.87188826\n",
            " -0.28384922 -0.02115856]\n",
            "\n",
            "Thetha 4 es:  [ 0.41246253 -0.87136133 -0.45914888 -0.18004598  0.16392052 -0.17459928\n",
            "  0.00866601 -0.00252235  0.17623604  0.17074371 -0.15067729  0.09528225\n",
            "  0.42225605 -0.44837189  0.23090669 -0.0332044  -0.17218327  1.42685265\n",
            "  0.04962222 -0.0367317   0.15973959 -0.11402488 -0.61752041 -1.01833065\n",
            " -0.11350878 -0.6860683  -0.08214053  1.78764614 -1.52222763  0.01587869\n",
            " -0.68137595 -0.57957236 -0.10029589 -0.77267845  0.3039108  -0.08950553\n",
            "  0.01853805 -0.17611848  0.03828585  0.12082311  0.47943925  0.5708825\n",
            " -0.08493213  0.10090756]\n",
            "\n",
            "Thetha 5 es:  [ 8.17593517e-03 -5.37456798e+00 -3.36812481e+00 -8.73935782e-01\n",
            "  3.14554292e-01  3.16869352e-01  6.61740938e-02  3.85553838e-03\n",
            " -4.23716635e-02  6.02489130e-02 -1.49775650e-02 -1.25072810e-01\n",
            " -1.88756872e-01 -5.82669693e-01  5.72895221e-01 -8.68500854e-01\n",
            "  8.38255060e-01  1.50508248e+00  1.43240599e-02 -2.71510735e-02\n",
            " -4.79794187e-03 -2.37777868e-01 -7.29538648e+00 -1.08161442e+00\n",
            "  1.22787007e-02 -5.17830330e+00 -1.24483491e+00  1.91060394e+01\n",
            " -1.13327773e+00  1.06061670e+00 -8.15502126e+00 -1.48692502e+01\n",
            "  3.69582092e+00 -5.94260131e+00  2.72300849e-01 -2.00216857e-01\n",
            " -1.00402370e-01 -2.21352716e-01  3.34050421e-02 -1.62668201e-02\n",
            " -1.41794596e+00  3.79997286e+00  4.01403003e-02 -6.35681555e-01]\n",
            "\n",
            "Thetha 6 es:  [-0.30988391  2.00874847  0.98367744 -0.13469932 -0.25633841  0.18453954\n",
            "  0.2032646   0.0039952   0.07113412 -0.23291898  0.13780357 -0.28787224\n",
            " -0.2926566   0.3125514  -0.45953792 -0.01284665  0.20518344 -2.76235544\n",
            "  0.08074923 -0.06666894  0.07250989 -0.13407093  1.2268194   1.16385466\n",
            "  0.09140355  1.43343563  0.16801737 -3.65773885  1.11626885 -0.0367052\n",
            "  1.39527156  2.14698227  0.27561303  1.74839024 -0.1750336   0.12442891\n",
            " -0.02818708  0.3604116  -0.13265566 -0.03308612 -1.47952476 -1.20551035\n",
            "  0.16037261  0.10511645]\n",
            "\n"
          ]
        }
      ],
      "source": [
        "#parametros de matriz theta1, pesos de la neuora en la capa oculta, son 10\n",
        "for i in range(len(Theta1)):\n",
        "    print(\"Thetha\",i,\"es: \", Theta1[i])\n",
        "    print(\"\")"
      ]
    },
    {
      "cell_type": "code",
      "execution_count": null,
      "metadata": {
        "id": "ZAaS1rkdekat"
      },
      "outputs": [],
      "source": [
        "#parametros de matriz theta2, pesos de la capa de salida\n",
        "for i in range(len(Theta2)):\n",
        "    print(\"Thetha\",i,\"es: \", Theta1[i])\n",
        "    print(\"\")"
      ]
    },
    {
      "cell_type": "code",
      "execution_count": null,
      "metadata": {
        "id": "XDnQrQM4_0Ct"
      },
      "outputs": [],
      "source": [
        "def predict(Theta1, Theta2, X): #calculo de etiquetas predichas para las muestras de x utilizando el entrenamiento de t1 y t2\n",
        "\n",
        "   # Calcular la salida utilizando los pesos entrenados\n",
        "    h1 = np.dot(np.concatenate([np.ones((X.shape[0], 1)), X], axis=1), Theta1.T)  # Salida de la capa oculta\n",
        "    output = np.dot(np.concatenate([np.ones((h1.shape[0], 1)), h1], axis=1), Theta2.T)  # Salida final\n",
        "\n",
        "    return output"
      ]
    },
    {
      "cell_type": "markdown",
      "metadata": {
        "id": "oqZNYikLZBbn"
      },
      "source": [
        "# Predicciones"
      ]
    },
    {
      "cell_type": "code",
      "execution_count": null,
      "metadata": {
        "id": "_-CNcPkb3PzY",
        "colab": {
          "base_uri": "https://localhost:8080/"
        },
        "outputId": "02875a60-8db4-446a-b930-41416f8e956c"
      },
      "outputs": [
        {
          "output_type": "stream",
          "name": "stdout",
          "text": [
            "Primera fila de Xp: [   1.     1.    36.6    0.     6.  2017.     3.  1038.     5.  2018.\n",
            "  226.    40.     3.     4.    99.    99.     9.    84.   888.    84.\n",
            "   37.     1.     5.     1.     1.     1.     1.    65.     1.     1.\n",
            "    0.     1.     1.     4.    10.     0.     1.     0.   220.     4.\n",
            "    1.     1.     6. ]\n",
            "Primera fila de yp: 3410\n"
          ]
        }
      ],
      "source": [
        "import numpy as np\n",
        "\n",
        "# Configurar numpy para que no imprima valores en formato científico\n",
        "np.set_printoptions(suppress=True)\n",
        "\n",
        "print(\"Primera fila de Xp:\", Xp[0])\n",
        "print(\"Primera fila de yp:\", yp[0])\n"
      ]
    },
    {
      "cell_type": "code",
      "source": [
        "# prompt: head xp\n",
        "\n",
        "print(Xp[0:1])\n"
      ],
      "metadata": {
        "colab": {
          "base_uri": "https://localhost:8080/"
        },
        "id": "yqPpAlQZMOQ3",
        "outputId": "e216428c-0853-42f3-c568-ba30cadc3808"
      },
      "execution_count": null,
      "outputs": [
        {
          "output_type": "stream",
          "name": "stdout",
          "text": [
            "[[   1.     1.    36.6    0.     6.  2017.     3.  1038.     5.  2018.\n",
            "   226.    40.     3.     4.    99.    99.     9.    84.   888.    84.\n",
            "    37.     1.     5.     1.     1.     1.     1.    65.     1.     1.\n",
            "     0.     1.     1.     4.    10.     0.     1.     0.   220.     4.\n",
            "     1.     1.     6. ]]\n"
          ]
        }
      ]
    },
    {
      "cell_type": "code",
      "source": [
        "print(yp[0:1])"
      ],
      "metadata": {
        "colab": {
          "base_uri": "https://localhost:8080/"
        },
        "id": "va8Uu9AhMjbR",
        "outputId": "00a85bcb-81be-46b8-fdec-d569bf377a00"
      },
      "execution_count": null,
      "outputs": [
        {
          "output_type": "stream",
          "name": "stdout",
          "text": [
            "[3410]\n"
          ]
        }
      ]
    },
    {
      "cell_type": "code",
      "execution_count": null,
      "metadata": {
        "id": "HeVOizFMgcPh",
        "colab": {
          "base_uri": "https://localhost:8080/"
        },
        "outputId": "4dcdbde8-f503-41f9-c850-2ea3e35e5cf0"
      },
      "outputs": [
        {
          "output_type": "stream",
          "name": "stdout",
          "text": [
            "Predicciones:\n",
            "Precio 1 es: [-3683.31650725]\n",
            "\n"
          ]
        }
      ],
      "source": [
        "#Predecir los precios de ejemplos:\n",
        "matriz_datos = np.array([\n",
        "    [ 1, 1,     1,    36.6,    0,     6,  2017,     3,  1038,     5,\n",
        " 2018,   40,     3,     4,    99,    99,     9,    84,   888,\n",
        "   84,    37,     1,     5,     1,     1,     1,     1,    65,     1,\n",
        "    1,     0,     1,     1,     4,    10,     0,     1,     0,   220,\n",
        "    4,     1,     1,     6 ]\n",
        "\n",
        "])\n",
        "\n",
        "\n",
        "#Normalizacion\n",
        "matriz_datos= (matriz_datos - mu) / sigma\n",
        "\n",
        "\n",
        "#Y predicha\n",
        "pred = predict(Theta1, Theta2, matriz_datos)\n",
        "\n",
        "print(\"Predicciones:\")\n",
        "i = 0\n",
        "for i in range(len(matriz_datos)):\n",
        "    print(\"Precio\",i+1,\"es:\", pred[i])\n",
        "    print(\"\")\n",
        "\n",
        "\n"
      ]
    },
    {
      "cell_type": "code",
      "execution_count": null,
      "metadata": {
        "id": "ecqusAFDgcSd"
      },
      "outputs": [],
      "source": [
        "#Creamos la funcion:\n",
        "def mean_squared_error(y_pred, y_actual):\n",
        "     # Calcular la diferencia entre las etiquetas predichas y reales\n",
        "    resta = y_pred - y_actual\n",
        "    # Calcular el error cuadrático\n",
        "    err_cuadrado = np.sum(resta ** 2)\n",
        "    # Calcular el error cuadrático medio\n",
        "    mse = err_cuadrado / len(y_pred)\n",
        "\n",
        "    return mse"
      ]
    },
    {
      "cell_type": "code",
      "execution_count": null,
      "metadata": {
        "id": "snk2UlYrgck2",
        "colab": {
          "base_uri": "https://localhost:8080/"
        },
        "outputId": "2806435e-fb82-4b49-b5dc-78ea1ca5f53c"
      },
      "outputs": [
        {
          "output_type": "stream",
          "name": "stdout",
          "text": [
            "[[-187.11337634]\n",
            " [ 262.74750151]\n",
            " [ -86.4158239 ]\n",
            " ...\n",
            " [ 517.17466224]\n",
            " [3654.03562454]\n",
            " [ -54.19666845]]\n"
          ]
        }
      ],
      "source": [
        "# Normalizar los datos de prueba\n",
        "Xp = (Xp - mu) / sigma\n",
        "\n",
        "# Realizar predicciones con la red neuronal\n",
        "pred = predict(Theta1, Theta2, Xp)\n",
        "\n",
        "# Imprimir las predicciones\n",
        "print(pred)\n"
      ]
    },
    {
      "cell_type": "code",
      "execution_count": null,
      "metadata": {
        "id": "iXDZPIdSigiR",
        "colab": {
          "base_uri": "https://localhost:8080/",
          "height": 193
        },
        "outputId": "85bb97d6-8dc3-451a-8c91-68d31e193ef8"
      },
      "outputs": [
        {
          "output_type": "error",
          "ename": "NameError",
          "evalue": "name 'mean_squared_error' is not defined",
          "traceback": [
            "\u001b[0;31m---------------------------------------------------------------------------\u001b[0m",
            "\u001b[0;31mNameError\u001b[0m                                 Traceback (most recent call last)",
            "\u001b[0;32m<ipython-input-2-b8aec3aa1d7d>\u001b[0m in \u001b[0;36m<cell line: 1>\u001b[0;34m()\u001b[0m\n\u001b[0;32m----> 1\u001b[0;31m \u001b[0mmse\u001b[0m \u001b[0;34m=\u001b[0m \u001b[0mmean_squared_error\u001b[0m\u001b[0;34m(\u001b[0m\u001b[0mpred\u001b[0m\u001b[0;34m,\u001b[0m \u001b[0myp\u001b[0m\u001b[0;34m)\u001b[0m\u001b[0;34m\u001b[0m\u001b[0;34m\u001b[0m\u001b[0m\n\u001b[0m\u001b[1;32m      2\u001b[0m \u001b[0;31m#calculamos el error cuadratico medio:\u001b[0m\u001b[0;34m\u001b[0m\u001b[0;34m\u001b[0m\u001b[0m\n\u001b[1;32m      3\u001b[0m \u001b[0mprint\u001b[0m\u001b[0;34m(\u001b[0m\u001b[0;34m'Error Cuadrático Medio (MSE) = '\u001b[0m \u001b[0;34m+\u001b[0m \u001b[0mstr\u001b[0m\u001b[0;34m(\u001b[0m\u001b[0mmse\u001b[0m\u001b[0;34m)\u001b[0m\u001b[0;34m)\u001b[0m\u001b[0;34m\u001b[0m\u001b[0;34m\u001b[0m\u001b[0m\n\u001b[1;32m      4\u001b[0m \u001b[0mprint\u001b[0m\u001b[0;34m(\u001b[0m\u001b[0;34m'Raíz del Error Cuadrático Medio (RMSE) = '\u001b[0m \u001b[0;34m+\u001b[0m \u001b[0mstr\u001b[0m\u001b[0;34m(\u001b[0m\u001b[0mnp\u001b[0m\u001b[0;34m.\u001b[0m\u001b[0msqrt\u001b[0m\u001b[0;34m(\u001b[0m\u001b[0mmse\u001b[0m\u001b[0;34m)\u001b[0m\u001b[0;34m)\u001b[0m\u001b[0;34m)\u001b[0m\u001b[0;34m\u001b[0m\u001b[0;34m\u001b[0m\u001b[0m\n",
            "\u001b[0;31mNameError\u001b[0m: name 'mean_squared_error' is not defined"
          ]
        }
      ],
      "source": [
        "mse = mean_squared_error(pred, yp)\n",
        "#calculamos el error cuadratico medio:\n",
        "print('Error Cuadrático Medio (MSE) = ' + str(mse))\n",
        "print('Raíz del Error Cuadrático Medio (RMSE) = ' + str(np.sqrt(mse)))"
      ]
    }
  ],
  "metadata": {
    "accelerator": "GPU",
    "colab": {
      "gpuType": "T4",
      "provenance": [],
      "toc_visible": true
    },
    "kernelspec": {
      "display_name": "Python 3",
      "name": "python3"
    },
    "language_info": {
      "name": "python"
    }
  },
  "nbformat": 4,
  "nbformat_minor": 0
}