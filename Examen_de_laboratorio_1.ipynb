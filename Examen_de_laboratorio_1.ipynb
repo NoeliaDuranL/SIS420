{
  "nbformat": 4,
  "nbformat_minor": 0,
  "metadata": {
    "colab": {
      "provenance": [],
      "gpuType": "T4",
      "toc_visible": true,
      "include_colab_link": true
    },
    "kernelspec": {
      "name": "python3",
      "display_name": "Python 3"
    },
    "language_info": {
      "name": "python"
    },
    "accelerator": "GPU"
  },
  "cells": [
    {
      "cell_type": "markdown",
      "metadata": {
        "id": "view-in-github",
        "colab_type": "text"
      },
      "source": [
        "<a href=\"https://colab.research.google.com/github/NoeliaDuranL/SIS420/blob/main/Examen_de_laboratorio_1.ipynb\" target=\"_parent\"><img src=\"https://colab.research.google.com/assets/colab-badge.svg\" alt=\"Open In Colab\"/></a>"
      ]
    },
    {
      "cell_type": "code",
      "metadata": {
        "id": "stUHtyXwtUTc"
      },
      "source": [
        "# used for manipulating directory paths\n",
        "import os\n",
        "\n",
        "# Scientific and vector computation for python\n",
        "import numpy as np\n",
        "\n",
        "# Plotting library\n",
        "from matplotlib import pyplot\n",
        "\n",
        "# Optimization module in scipy\n",
        "from scipy import optimize\n",
        "\n",
        "%matplotlib inline\n",
        "\n",
        "import pandas as pd\n"
      ],
      "execution_count": 309,
      "outputs": []
    },
    {
      "cell_type": "code",
      "source": [
        "from google.colab import drive\n",
        "drive.mount('/content/drive')"
      ],
      "metadata": {
        "colab": {
          "base_uri": "https://localhost:8080/"
        },
        "id": "SHyrfx8EntyU",
        "outputId": "477c8371-62f4-48d8-8781-5b55271300a3"
      },
      "execution_count": 310,
      "outputs": [
        {
          "output_type": "stream",
          "name": "stdout",
          "text": [
            "Drive already mounted at /content/drive; to attempt to forcibly remount, call drive.mount(\"/content/drive\", force_remount=True).\n"
          ]
        }
      ]
    },
    {
      "cell_type": "code",
      "source": [
        "# Leer datos\n",
        "df = pd.read_csv('/content/drive/MyDrive/SIS420/Practica Laboratorios/Lab 1/kc_house_data.csv', delimiter=',')"
      ],
      "metadata": {
        "id": "lLMugHaxnlUa"
      },
      "execution_count": 311,
      "outputs": []
    },
    {
      "cell_type": "code",
      "metadata": {
        "id": "GhiUwtKnule0",
        "colab": {
          "base_uri": "https://localhost:8080/"
        },
        "outputId": "2a004de7-b4d5-46e0-f0db-573857c1d2da"
      },
      "source": [
        "!ls\n",
        "%mkdir data\n",
        "!ls"
      ],
      "execution_count": 312,
      "outputs": [
        {
          "output_type": "stream",
          "name": "stdout",
          "text": [
            "data  drive  sample_data\n",
            "mkdir: cannot create directory ‘data’: File exists\n",
            "data  drive  sample_data\n"
          ]
        }
      ]
    },
    {
      "cell_type": "code",
      "metadata": {
        "id": "ZdNP-OaBtlmp"
      },
      "source": [
        "import sys\n",
        "import shutil"
      ],
      "execution_count": 313,
      "outputs": []
    },
    {
      "cell_type": "markdown",
      "source": [
        "# Procesamiento de datos"
      ],
      "metadata": {
        "id": "LCWv5-f8pH1W"
      }
    },
    {
      "cell_type": "code",
      "metadata": {
        "id": "a1urWqmYvPE3",
        "colab": {
          "base_uri": "https://localhost:8080/"
        },
        "outputId": "0f2cda27-fb4b-417b-9990-1474a4614a12"
      },
      "source": [
        "# Obtener la cantidad de datos no nulos en cada columna\n",
        "column_counts_before = df.count()\n",
        "\n",
        "# Imprimir la cantidad de datos en cada columna\n",
        "print(\"Cantidad de datos en cada columna: \")\n",
        "print(column_counts_before)"
      ],
      "execution_count": 314,
      "outputs": [
        {
          "output_type": "stream",
          "name": "stdout",
          "text": [
            "Cantidad de datos en cada columna: \n",
            "id               21613\n",
            "date             21613\n",
            "price            21613\n",
            "bedrooms         21613\n",
            "bathrooms        21613\n",
            "sqft_living      21613\n",
            "sqft_lot         21613\n",
            "floors           21613\n",
            "waterfront       21613\n",
            "view             21613\n",
            "condition        21613\n",
            "grade            21613\n",
            "sqft_above       21613\n",
            "sqft_basement    21613\n",
            "yr_built         21613\n",
            "yr_renovated     21613\n",
            "zipcode          21613\n",
            "lat              21613\n",
            "long             21613\n",
            "sqft_living15    21613\n",
            "sqft_lot15       21613\n",
            "dtype: int64\n"
          ]
        }
      ]
    },
    {
      "cell_type": "code",
      "source": [
        "# Seleccionar las columnas necesarias para X y y\n",
        "selected_columns = ['price', 'bedrooms', 'bathrooms', 'sqft_living', 'sqft_lot', 'floors', 'waterfront', 'view', 'condition', 'grade', 'sqft_above', 'sqft_basement', 'yr_built', 'yr_renovated', 'zipcode', 'lat', 'long', 'sqft_living15', 'sqft_lot15']\n",
        "\n",
        "\n",
        "# Crear un nuevo DataFrame con las columnas seleccionadas\n",
        "df_selected = df[selected_columns]\n",
        "\n",
        "# Mostrar las primeras filas del nuevo DataFrame\n",
        "print(df_selected.head())"
      ],
      "metadata": {
        "colab": {
          "base_uri": "https://localhost:8080/"
        },
        "id": "bHU2lHpwnf0K",
        "outputId": "2a6acc77-cb7c-4905-ecf3-4c889a67a1ea"
      },
      "execution_count": 315,
      "outputs": [
        {
          "output_type": "stream",
          "name": "stdout",
          "text": [
            "      price  bedrooms  bathrooms  sqft_living  sqft_lot  floors  waterfront  \\\n",
            "0  221900.0         3       1.00         1180      5650     1.0           0   \n",
            "1  538000.0         3       2.25         2570      7242     2.0           0   \n",
            "2  180000.0         2       1.00          770     10000     1.0           0   \n",
            "3  604000.0         4       3.00         1960      5000     1.0           0   \n",
            "4  510000.0         3       2.00         1680      8080     1.0           0   \n",
            "\n",
            "   view  condition  grade  sqft_above  sqft_basement  yr_built  yr_renovated  \\\n",
            "0     0          3      7        1180              0      1955             0   \n",
            "1     0          3      7        2170            400      1951          1991   \n",
            "2     0          3      6         770              0      1933             0   \n",
            "3     0          5      7        1050            910      1965             0   \n",
            "4     0          3      8        1680              0      1987             0   \n",
            "\n",
            "   zipcode      lat     long  sqft_living15  sqft_lot15  \n",
            "0    98178  47.5112 -122.257           1340        5650  \n",
            "1    98125  47.7210 -122.319           1690        7639  \n",
            "2    98028  47.7379 -122.233           2720        8062  \n",
            "3    98136  47.5208 -122.393           1360        5000  \n",
            "4    98074  47.6168 -122.045           1800        7503  \n"
          ]
        }
      ]
    },
    {
      "cell_type": "code",
      "source": [
        "data = df_selected"
      ],
      "metadata": {
        "id": "xWWa5wxanf3B"
      },
      "execution_count": 316,
      "outputs": []
    },
    {
      "cell_type": "markdown",
      "source": [
        "# Seleccion de datos"
      ],
      "metadata": {
        "id": "ONiY1v_rpPCu"
      }
    },
    {
      "cell_type": "code",
      "source": [
        "# columnas relevantes para X\n",
        "features = ['bedrooms', 'bathrooms', 'sqft_living', 'sqft_lot', 'floors', 'waterfront', 'view', 'condition', 'grade', 'sqft_above', 'sqft_basement', 'yr_built', 'yr_renovated', 'zipcode', 'lat', 'long', 'sqft_living15', 'sqft_lot15']\n",
        "X = data[features].values\n",
        "\n",
        "# Phising' para y\n",
        "y = data['price'].values\n",
        "\n",
        "# Dividir los datos en entrenamiento y prueba (80% entrenamiento, 20% prueba)\n",
        "train_size = int(0.8 * len(data))\n",
        "Xp, yp = X[train_size:], y[train_size:]\n",
        "X, y = X[:train_size], y[:train_size]\n",
        "\n",
        "\n",
        "m_train = len(y)\n",
        "\n",
        "m = y.size\n",
        "\n",
        "# Imprimir las formas de los datos\n",
        "print(X.shape)\n",
        "print(y.shape)\n",
        "print(Xp.shape)\n",
        "print(yp.shape)\n",
        "\n",
        "# Imprimir las etiquetas de entrenamiento\n",
        "print(y)"
      ],
      "metadata": {
        "colab": {
          "base_uri": "https://localhost:8080/"
        },
        "id": "TMcorHaInf_S",
        "outputId": "6803561a-e15b-466d-e6e1-e0f510c9c20d"
      },
      "execution_count": 317,
      "outputs": [
        {
          "output_type": "stream",
          "name": "stdout",
          "text": [
            "(17290, 18)\n",
            "(17290,)\n",
            "(4323, 18)\n",
            "(4323,)\n",
            "[ 221900.  538000.  180000. ...  775000. 2250000. 1350000.]\n"
          ]
        }
      ]
    },
    {
      "cell_type": "markdown",
      "source": [
        "# Configuracion de capas"
      ],
      "metadata": {
        "id": "zLgR1RNqpU1P"
      }
    },
    {
      "cell_type": "code",
      "source": [
        "# Configurando las capas de\n",
        "input_layer_size  = 18   # Entrada de 18 características, sin contar id\n",
        "hidden_layer_size = 7   # 10 unidades ocultas(es un hiperparametro, controla la complejidad del modelo)\n",
        "#output_layer_size\n",
        "num_labels = 1    # Una sola salida (precio)\n",
        "\n",
        "print(\"la cantidad de elementos en la capa de entrada es: \",input_layer_size)\n",
        "print(\"la cantidad de elementos en la capa de oculta es: \",hidden_layer_size)\n",
        "print(\"la cantidad de elementos en la capa de salida es: \",num_labels)\n",
        "\n"
      ],
      "metadata": {
        "colab": {
          "base_uri": "https://localhost:8080/"
        },
        "id": "qxaVHmxAngCS",
        "outputId": "a7453532-0946-4613-f8d1-f432a76f03a0"
      },
      "execution_count": 318,
      "outputs": [
        {
          "output_type": "stream",
          "name": "stdout",
          "text": [
            "la cantidad de elementos en la capa de entrada es:  18\n",
            "la cantidad de elementos en la capa de oculta es:  7\n",
            "la cantidad de elementos en la capa de salida es:  1\n"
          ]
        }
      ]
    },
    {
      "cell_type": "code",
      "source": [],
      "metadata": {
        "id": "h9lBc7YRpgZD"
      },
      "execution_count": 318,
      "outputs": []
    },
    {
      "cell_type": "markdown",
      "source": [
        "# Inicializacion de parametros theta"
      ],
      "metadata": {
        "id": "Wy87VfkwpfLr"
      }
    },
    {
      "cell_type": "code",
      "source": [
        "# Inicializa los pesos en las variables Theta1 y Theta2\n",
        "pesos = {}\n",
        "pesos['Theta1'] = np.random.rand(hidden_layer_size , input_layer_size + 1) #+1 porque se incluye el sesgo\n",
        "pesos['Theta2'] = np.random.rand(num_labels, hidden_layer_size + 1) #+1 porque se incluye el sesgo\n",
        "\n",
        "# Carga los pesos en las variables Theta1 y Theta2\n",
        "Theta1, Theta2 = pesos['Theta1'], pesos['Theta2']\n",
        "\n",
        "# Con valores pequeños alatorios\n",
        "print(Theta1.ravel().shape)\n",
        "print(Theta2.ravel().shape)\n"
      ],
      "metadata": {
        "id": "-F86aYlpngFK",
        "colab": {
          "base_uri": "https://localhost:8080/"
        },
        "outputId": "4348abcd-941d-4519-966f-fcfbda0ab05d"
      },
      "execution_count": 319,
      "outputs": [
        {
          "output_type": "stream",
          "name": "stdout",
          "text": [
            "(133,)\n",
            "(8,)\n"
          ]
        }
      ]
    },
    {
      "cell_type": "code",
      "source": [
        "# Concatenación de thetas en un solo array\n",
        "nn_params = np.concatenate([Theta1.ravel(), Theta2.ravel()])\n",
        "print(nn_params.shape)"
      ],
      "metadata": {
        "id": "Y7nSprhjngH6",
        "colab": {
          "base_uri": "https://localhost:8080/"
        },
        "outputId": "225360ff-be6c-46ad-c3e8-d55b2d7995dd"
      },
      "execution_count": 320,
      "outputs": [
        {
          "output_type": "stream",
          "name": "stdout",
          "text": [
            "(141,)\n"
          ]
        }
      ]
    },
    {
      "cell_type": "markdown",
      "source": [
        "# Sigmoide y gradiente"
      ],
      "metadata": {
        "id": "NKOTxABMpldK"
      }
    },
    {
      "cell_type": "code",
      "metadata": {
        "id": "IYkAveQh0e87"
      },
      "source": [
        "def linear_activation(z):\n",
        "    \"\"\"Función de activación lineal.\"\"\"\n",
        "    return z\n",
        "\n",
        "def linear_gradient(z):\n",
        "    \"\"\"Gradiente de la función de activación lineal (siempre es 1).\"\"\"\n",
        "    return np.ones_like(z)"
      ],
      "execution_count": 321,
      "outputs": []
    },
    {
      "cell_type": "markdown",
      "source": [
        "# Funcion de costo"
      ],
      "metadata": {
        "id": "f9HikytHpuiT"
      }
    },
    {
      "cell_type": "code",
      "metadata": {
        "id": "Aevzq-rt0vKn"
      },
      "source": [
        "def nnCostFunction(nn_params,\n",
        "                   input_layer_size,\n",
        "                   hidden_layer_size,\n",
        "                   num_labels,\n",
        "                   X, y, lambda_=0.0):\n",
        "    \"\"\"\n",
        "    Calcula la función de costo y gradientes para una red neuronal de dos capas.\n",
        "\n",
        "    Parámetros:\n",
        "    nn_params : array_like\n",
        "        Parámetros de la red neuronal desenrollados en un único vector.\n",
        "    input_layer_size : int\n",
        "        Tamaño de la capa de entrada.\n",
        "    hidden_layer_size : int\n",
        "        Tamaño de la capa oculta.\n",
        "    num_labels : int\n",
        "        Número de etiquetas (clases).\n",
        "    X : array_like\n",
        "        Datos de entrenamiento.\n",
        "    y : array_like\n",
        "        Etiquetas de entrenamiento.\n",
        "    lambda_ : float, opcional\n",
        "        Parámetro de regularización.\n",
        "\n",
        "    Devuelve:\n",
        "    J : float\n",
        "        Valor de la función de costo.\n",
        "    grad : array_like\n",
        "        Gradientes de los parámetros de la red neuronal.\n",
        "    \"\"\"\n",
        "\n",
        "    # Reshape nn_params para obtener Theta1 y Theta2\n",
        "    Theta1 = np.reshape(nn_params[:hidden_layer_size * (input_layer_size + 1)],\n",
        "                        (hidden_layer_size, (input_layer_size + 1)))\n",
        "    Theta2 = np.reshape(nn_params[(hidden_layer_size * (input_layer_size + 1)):],\n",
        "                        (num_labels, (hidden_layer_size + 1)))\n",
        "\n",
        "    m = y.size  # Número de ejemplos de entrenamiento\n",
        "\n",
        "    J = 0\n",
        "    Theta1_grad = np.zeros(Theta1.shape)\n",
        "    Theta2_grad = np.zeros(Theta2.shape)\n",
        "\n",
        "    # Propagación hacia adelante\n",
        "    a1 = np.concatenate([np.ones((m, 1)), X], axis=1)  # Agregar sesgo a los datos de entrada\n",
        "    z2 = a1.dot(Theta1.T)  # Calcular la salida de la capa oculta\n",
        "    a2 = linear_activation(z2)  # Aplicar función de activación a la salida de la capa oculta\n",
        "    a2 = np.concatenate([np.ones((a2.shape[0], 1)), a2], axis=1)  # Agregar sesgo a la salida de la capa oculta\n",
        "    z3 = a2.dot(Theta2.T)  # Calcular la salida de la capa de salida\n",
        "    a3 = linear_activation(z3)  # Aplicar función de activación a la salida de la capa de salida\n",
        "\n",
        "    # Asegurar que y tenga la forma adecuada\n",
        "    y = y.reshape(-1, 1)\n",
        "\n",
        "    # Función de costo\n",
        "    reg_term = (lambda_ / (2 * m)) * (np.sum(np.square(Theta1[:, 1:])) + np.sum(np.square(Theta2[:, 1:])))\n",
        "    J = (1 / (2 * m)) * np.sum(np.square(a3 - y))\n",
        "    J += reg_term\n",
        "\n",
        "    # Retropropagación=propagar el error desde la capa de salida hasta la capa de entrada de la red\n",
        "    delta_3 = a3 - y  # Calcular el error en la capa de salida\n",
        "    delta_2 = delta_3.dot(Theta2)[:, 1:] * linear_gradient(z2)  # Calcular el error en la capa oculta\n",
        "\n",
        "    Delta1 = delta_2.T.dot(a1)  # Calcular la acumulación de gradientes para Theta1\n",
        "    Delta2 = delta_3.T.dot(a2)  # Calcular la acumulación de gradientes para Theta2\n",
        "\n",
        "    # Regularización de gradientes\n",
        "    Theta1_grad = (1 / m) * Delta1\n",
        "    Theta1_grad[:, 1:] += (lambda_ / m) * Theta1[:, 1:]\n",
        "    Theta2_grad = (1 / m) * Delta2\n",
        "    Theta2_grad[:, 1:] += (lambda_ / m) * Theta2[:, 1:]\n",
        "\n",
        "    # Desenrollar gradientes\n",
        "    grad = np.concatenate([Theta1_grad.ravel(), Theta2_grad.ravel()])\n",
        "\n",
        "    return J, grad\n"
      ],
      "execution_count": 322,
      "outputs": []
    },
    {
      "cell_type": "markdown",
      "source": [
        "# Normalizacion"
      ],
      "metadata": {
        "id": "dFpL_kgRpxsK"
      }
    },
    {
      "cell_type": "code",
      "source": [
        "def  featureNormalize(X):\n",
        "    X_norm = X.copy()\n",
        "\n",
        "    #creamos un array de ceros con una longitud igual al número de columnas en el array x\n",
        "    mu = np.zeros(X.shape[1])\n",
        "    sigma = np.zeros(X.shape[1])\n",
        "\n",
        "    #promedio de cada columna\n",
        "    mu = np.mean(X, axis = 0)\n",
        "    sigma = np.std(X, axis = 0)\n",
        "\n",
        "    sigma[sigma == 0] = 1\n",
        "\n",
        "    #normalizacion\n",
        "    X_norm = (X - mu) / sigma\n",
        "\n",
        "    return X_norm, mu, sigma"
      ],
      "metadata": {
        "id": "k7BWhibBYtps"
      },
      "execution_count": 323,
      "outputs": []
    },
    {
      "cell_type": "code",
      "source": [
        "X_norm, mu, sigma = featureNormalize(X)"
      ],
      "metadata": {
        "id": "WECsyynYYtss"
      },
      "execution_count": 324,
      "outputs": []
    },
    {
      "cell_type": "code",
      "source": [
        "print(\"Longitud de nn_params:\", len(nn_params))\n",
        "print(\"Expected size for Theta2:\", (hidden_layer_size + 1) * num_labels)"
      ],
      "metadata": {
        "colab": {
          "base_uri": "https://localhost:8080/"
        },
        "id": "pqca5l3SYtvf",
        "outputId": "b0651519-0d78-4aab-eb9e-73190cd1f15e"
      },
      "execution_count": 325,
      "outputs": [
        {
          "output_type": "stream",
          "name": "stdout",
          "text": [
            "Longitud de nn_params: 141\n",
            "Expected size for Theta2: 8\n"
          ]
        }
      ]
    },
    {
      "cell_type": "markdown",
      "source": [
        "# Calculo de costo(lambda)"
      ],
      "metadata": {
        "id": "gGfAAfTzXcLd"
      }
    },
    {
      "cell_type": "code",
      "source": [
        "#calculo costo\n",
        "#lambda=10= 210668998573.230896\n",
        "#lambda=100= 210669008419.584686\n",
        "#lambda=1000=210669106883.122620\n",
        "#lambda=10000=210670091518.501831\n",
        "\n",
        "lambda_ = 100000\n",
        "J, _ = nnCostFunction(nn_params, input_layer_size, hidden_layer_size, num_labels, X_norm, y, lambda_)\n",
        "print('Costo en parametros (cargado de ex4weights): %.6f ' % J)\n",
        "print('El costo debe esta cercano a               : ')"
      ],
      "metadata": {
        "colab": {
          "base_uri": "https://localhost:8080/"
        },
        "id": "jL2DKmmTYtyS",
        "outputId": "538addf8-ffcf-4b7d-820c-6902e041cf90"
      },
      "execution_count": 326,
      "outputs": [
        {
          "output_type": "stream",
          "name": "stdout",
          "text": [
            "Costo en parametros (cargado de ex4weights): 209122492949.250305 \n",
            "El costo debe esta cercano a               : \n"
          ]
        }
      ]
    },
    {
      "cell_type": "markdown",
      "source": [
        "# Inicialización de los pesos de la una capa"
      ],
      "metadata": {
        "id": "4dle350XXj03"
      }
    },
    {
      "cell_type": "code",
      "metadata": {
        "id": "EnKgJRZq-x3U"
      },
      "source": [
        "def randInitializeWeights(L_in, L_out, epsilon_init=0.12):\n",
        "    W = np.zeros((L_out, 1 + L_in))  # Inicializar la matriz de pesos con ceros\n",
        "    W = np.random.rand(L_out, 1 + L_in) * 2 * epsilon_init - epsilon_init  # Inicializar aleatoriamente los pesos en el rango (-epsilon_init, epsilon_init)\n",
        "\n",
        "    return W\n"
      ],
      "execution_count": 327,
      "outputs": []
    },
    {
      "cell_type": "code",
      "metadata": {
        "id": "znk_8rO0-6fE",
        "colab": {
          "base_uri": "https://localhost:8080/"
        },
        "outputId": "ca6b5787-2b46-4d35-d61c-0b29b5733168"
      },
      "source": [
        "print('Inicialización de parámetros de redes neuronales...')\n",
        "\n",
        "# Inicializar pesos de la capa oculta y de salida\n",
        "initial_Theta1 = randInitializeWeights(input_layer_size, hidden_layer_size)\n",
        "initial_Theta2 = randInitializeWeights(hidden_layer_size, num_labels)\n",
        "\n",
        "# Desenrrollar parámetros\n",
        "initial_nn_params = np.concatenate([initial_Theta1.ravel(), initial_Theta2.ravel()], axis=0)\n"
      ],
      "execution_count": 328,
      "outputs": [
        {
          "output_type": "stream",
          "name": "stdout",
          "text": [
            "Inicialización de parámetros de redes neuronales...\n"
          ]
        }
      ]
    },
    {
      "cell_type": "markdown",
      "source": [
        "# Entrenamiento"
      ],
      "metadata": {
        "id": "DGpPdR9mYBlH"
      }
    },
    {
      "cell_type": "code",
      "metadata": {
        "id": "-ysYL_hX_D0k",
        "colab": {
          "base_uri": "https://localhost:8080/"
        },
        "outputId": "aef1f3a2-cc18-4882-eb3f-07a33d93fa42"
      },
      "source": [
        "#entrenamiento con el uso de la funcion optimize.minimize\n",
        "# Después de completar la tarea, cambia el valor de maxiter a uno más grande\n",
        "options= {'maxiter': 10000} #iteracciones\n",
        "\n",
        "#\n",
        "lambda_ = 100\n",
        "\n",
        "# Crear una versión abreviada de la función de costo a minimizar\n",
        "costFunction = lambda p: nnCostFunction(p, input_layer_size,\n",
        "                                        hidden_layer_size,\n",
        "                                        num_labels, X, y, lambda_)\n",
        "\n",
        "# Ahora, costFunction es una función que toma solo un argumento\n",
        "# (los parámetros de la red neuronal)\n",
        "res = optimize.minimize(costFunction,\n",
        "                        initial_nn_params,\n",
        "                        jac=True,\n",
        "                        method='TNC',\n",
        "                        options=options)\n",
        "\n",
        "# Obtener la solución de la optimización\n",
        "nn_params = res.x #almacenan\n",
        "\n",
        "# Obtener Theta1 y Theta2 a partir de nn_params\n",
        "Theta1 = np.reshape(nn_params[:hidden_layer_size * (input_layer_size + 1)],\n",
        "                    (hidden_layer_size, (input_layer_size + 1)))\n",
        "\n",
        "Theta2 = np.reshape(nn_params[(hidden_layer_size * (input_layer_size + 1)):],\n",
        "                    (num_labels, (hidden_layer_size + 1)))\n"
      ],
      "execution_count": 329,
      "outputs": [
        {
          "output_type": "stream",
          "name": "stderr",
          "text": [
            "<ipython-input-329-641e3251a7eb>:15: OptimizeWarning: Unknown solver options: maxiter\n",
            "  res = optimize.minimize(costFunction,\n"
          ]
        }
      ]
    },
    {
      "cell_type": "markdown",
      "source": [
        "# Parametros theta1 y theta2"
      ],
      "metadata": {
        "id": "BewS5MkfYsV0"
      }
    },
    {
      "cell_type": "code",
      "source": [
        "#parametros de matriz theta1, pesos de la neuora en la capa oculta, son 10\n",
        "for i in range(len(Theta1)):\n",
        "    print(\"Thetha\",i,\"es: \", Theta1[i])\n",
        "    print(\"\")"
      ],
      "metadata": {
        "colab": {
          "base_uri": "https://localhost:8080/"
        },
        "id": "SbxwcCaNekX9",
        "outputId": "6fde0bbf-e432-4d34-f519-c407b15cfd0b"
      },
      "execution_count": 330,
      "outputs": [
        {
          "output_type": "stream",
          "name": "stdout",
          "text": [
            "Thetha 0 es:  [-3.46480147e-02  2.79236613e+01 -5.03499379e+01 -3.44228542e+00\n",
            "  5.28804158e-01 -5.86968195e+00 -1.33447056e+02 -5.14489144e+01\n",
            " -2.59225646e+01 -8.78885951e+01 -6.28253468e-01  7.50631555e+00\n",
            " -9.74265725e+00  1.12740922e+00  6.54576824e-03 -2.67700525e+02\n",
            "  2.68420843e+01 -2.09495145e+00 -9.32643956e-02]\n",
            "\n",
            "Thetha 1 es:  [-2.27045165e-02  3.91515857e+01 -1.92263243e+01  7.50846042e+00\n",
            " -4.91716596e-01 -1.03759331e+01 -2.39339846e+01 -6.43908760e+01\n",
            " -1.30048259e+01 -7.95438759e+01  1.08445004e+01  1.40790033e+01\n",
            " -3.47830203e+00  6.47235183e-01 -8.36169729e-01 -4.92949001e+01\n",
            "  4.91797102e+00  1.10608543e+01 -1.21792146e+00]\n",
            "\n",
            "Thetha 2 es:  [-1.80644815e-01 -5.73553189e+01  3.31988917e+01 -8.30437007e+00\n",
            " -1.36458680e+00  1.31169404e+01  4.17698176e+01  7.98700614e+01\n",
            "  1.98892147e+01  1.23495777e+02 -1.30104036e+01 -1.04648813e+01\n",
            "  4.12736498e-01  1.21487519e-01 -2.43620181e+00  7.37991156e+01\n",
            " -9.03037359e+00 -9.82411418e+00  5.72960872e-01]\n",
            "\n",
            "Thetha 3 es:  [ 1.99441602e-01  9.13645940e+01 -5.39231392e+01  3.02222964e+00\n",
            "  6.89224383e-01 -2.43794906e+01 -7.86865629e+01 -1.38687851e+02\n",
            " -3.45582496e+01 -2.03321333e+02  1.20444197e+01  9.66729625e-01\n",
            "  9.06802795e+00 -1.16728852e+00  1.46542318e+00 -1.49370965e+02\n",
            "  1.73321947e+01  6.62332143e+00 -4.82047606e-01]\n",
            "\n",
            "Thetha 4 es:  [-3.03585686e-02  9.77800878e+00 -7.24644823e+01 -4.90822931e+00\n",
            "  6.98803370e-02  1.16364845e+01 -4.29456175e+02 -1.84226762e+01\n",
            " -3.57273441e+01 -8.25045458e+01  6.83601996e-01  5.86620425e+00\n",
            "  2.75399544e+00  8.77131335e-01  3.63245365e-01 -3.80506249e+02\n",
            "  2.51148168e+01 -2.19831951e+00  1.66373925e-01]\n",
            "\n",
            "Thetha 5 es:  [ 3.30469609e-01  2.99335965e+02 -1.69479312e+02 -5.15904132e+00\n",
            " -8.30305103e-01 -7.80941980e+01 -2.41126815e+02 -5.16715974e+02\n",
            " -1.13146044e+02 -6.70590980e+02  1.23946140e+01 -8.58266098e+00\n",
            "  3.30047489e+01 -3.87610308e+00 -1.57815047e+00 -3.81805237e+02\n",
            "  2.73142577e+01  4.80334348e+00 -1.62476824e-01]\n",
            "\n",
            "Thetha 6 es:  [-1.30769867e-02 -6.66159875e+00 -7.02287618e-01  1.11891404e+01\n",
            " -3.48281026e+00  2.09191146e+00 -8.72559514e+00  9.47306986e+00\n",
            "  2.32246500e-01  8.42004278e+00  1.69001588e+01 -6.15317817e+00\n",
            " -7.98917555e+00 -2.57567302e+00  3.01882700e+00 -2.23762237e+01\n",
            "  3.51706102e+00  1.14308718e+01 -1.11440824e+00]\n",
            "\n"
          ]
        }
      ]
    },
    {
      "cell_type": "code",
      "source": [
        "#parametros de matriz theta2, pesos de la capa de salida\n",
        "for i in range(len(Theta2)):\n",
        "    print(\"Thetha\",i,\"es: \", Theta1[i])\n",
        "    print(\"\")"
      ],
      "metadata": {
        "colab": {
          "base_uri": "https://localhost:8080/"
        },
        "id": "ZAaS1rkdekat",
        "outputId": "cf81b471-fac6-4645-9583-639ce265b2f2"
      },
      "execution_count": 331,
      "outputs": [
        {
          "output_type": "stream",
          "name": "stdout",
          "text": [
            "Thetha 0 es:  [-3.46480147e-02  2.79236613e+01 -5.03499379e+01 -3.44228542e+00\n",
            "  5.28804158e-01 -5.86968195e+00 -1.33447056e+02 -5.14489144e+01\n",
            " -2.59225646e+01 -8.78885951e+01 -6.28253468e-01  7.50631555e+00\n",
            " -9.74265725e+00  1.12740922e+00  6.54576824e-03 -2.67700525e+02\n",
            "  2.68420843e+01 -2.09495145e+00 -9.32643956e-02]\n",
            "\n"
          ]
        }
      ]
    },
    {
      "cell_type": "code",
      "metadata": {
        "id": "XDnQrQM4_0Ct"
      },
      "source": [
        "def predict(Theta1, Theta2, X): #calculo de etiquetas predichas para las muestras de x utilizando el entrenamiento de t1 y t2\n",
        "\n",
        "   # Calcular la salida utilizando los pesos entrenados\n",
        "    h1 = np.dot(np.concatenate([np.ones((X.shape[0], 1)), X], axis=1), Theta1.T)  # Salida de la capa oculta\n",
        "    output = np.dot(np.concatenate([np.ones((h1.shape[0], 1)), h1], axis=1), Theta2.T)  # Salida final\n",
        "\n",
        "    return output"
      ],
      "execution_count": 332,
      "outputs": []
    },
    {
      "cell_type": "markdown",
      "source": [
        "# Predicciones"
      ],
      "metadata": {
        "id": "oqZNYikLZBbn"
      }
    },
    {
      "cell_type": "code",
      "source": [
        "#Predecir los precios de ejemplos:\n",
        "matriz_datos = np.array([\n",
        "    [3, 1, 1180, 5650, 1, 0, 0, 3, 7, 1180, 0, 1955, 0, 98178, 47.5112, -122.257, 1340, 5660],\n",
        "    [3, 2.5, 2570, 7242, 2, 0, 0, 1, 8, 1500, 0, 1960, 0, 98125, 47.5141, -122.250, 1500, 6000],\n",
        "    [3, 2, 1600, 7000, 1, 0, 0, 1, 6, 1600, 0, 1980, 0, 98003, 47.5201, -122.233, 1600, 7000],\n",
        "    [5, 3, 2000, 8000, 2, 0, 1, 0, 9, 2000, 0, 1970, 0, 98001, 47.5251, -122.222, 2000, 8000],\n",
        "    [2, 1, 1000, 5000, 1, 0, 0, 0, 5, 1000, 0, 2000, 0, 98002, 47.5301, -122.211, 1000, 5000]\n",
        "\n",
        "])\n",
        "\n",
        "\n",
        "#Normalizacion\n",
        "matriz_datos= (matriz_datos - mu) / sigma\n",
        "\n",
        "\n",
        "#Y predicha\n",
        "pred = predict(Theta1, Theta2, matriz_datos)\n",
        "\n",
        "print(\"Predicciones:\")\n",
        "i = 0\n",
        "for i in range(len(matriz_datos)):\n",
        "    print(\"Precio\",i+1,\"es:\", pred[i])\n",
        "    print(\"\")\n",
        "\n",
        "\n"
      ],
      "metadata": {
        "colab": {
          "base_uri": "https://localhost:8080/"
        },
        "id": "HeVOizFMgcPh",
        "outputId": "4c83ca99-78de-498f-d61f-ddc23b6e0070"
      },
      "execution_count": 333,
      "outputs": [
        {
          "output_type": "stream",
          "name": "stdout",
          "text": [
            "Predicciones:\n",
            "Precio 1 es: [-227352.72360978]\n",
            "\n",
            "Precio 2 es: [-106395.45090198]\n",
            "\n",
            "Precio 3 es: [-329778.75570404]\n",
            "\n",
            "Precio 4 es: [-11063.75636864]\n",
            "\n",
            "Precio 5 es: [-474772.91211601]\n",
            "\n"
          ]
        }
      ]
    },
    {
      "cell_type": "code",
      "source": [
        "#Creamos la funcion:\n",
        "def mean_squared_error(y_pred, y_actual):\n",
        "     # Calcular la diferencia entre las etiquetas predichas y reales\n",
        "    resta = y_pred - y_actual\n",
        "    # Calcular el error cuadrático\n",
        "    err_cuadrado = np.sum(resta ** 2)\n",
        "    # Calcular el error cuadrático medio\n",
        "    mse = err_cuadrado / len(y_pred)\n",
        "\n",
        "    return mse"
      ],
      "metadata": {
        "id": "ecqusAFDgcSd"
      },
      "execution_count": 334,
      "outputs": []
    },
    {
      "cell_type": "code",
      "source": [
        "# Normalizar los datos de prueba\n",
        "Xp = (Xp - mu) / sigma\n",
        "\n",
        "# Realizar predicciones con la red neuronal\n",
        "pred = predict(Theta1, Theta2, Xp)\n",
        "\n",
        "# Imprimir las predicciones\n",
        "print(pred)\n"
      ],
      "metadata": {
        "colab": {
          "base_uri": "https://localhost:8080/"
        },
        "id": "snk2UlYrgck2",
        "outputId": "987ff25c-6f4d-45dd-e1b5-ba28409ed889"
      },
      "execution_count": 335,
      "outputs": [
        {
          "output_type": "stream",
          "name": "stdout",
          "text": [
            "[[190278.22614846]\n",
            " [190278.22614846]\n",
            " [-14566.66071894]\n",
            " ...\n",
            " [-79218.46832813]\n",
            " [-24387.44442868]\n",
            " [-79511.85357319]]\n"
          ]
        }
      ]
    },
    {
      "cell_type": "code",
      "source": [
        "mse = mean_squared_error(pred, yp)\n",
        "#calculamos el error cuadratico medio:\n",
        "print('Error Cuadrático Medio (MSE) = ' + str(mse))\n",
        "print('Raíz del Error Cuadrático Medio (RMSE) = ' + str(np.sqrt(mse)))"
      ],
      "metadata": {
        "colab": {
          "base_uri": "https://localhost:8080/"
        },
        "id": "iXDZPIdSigiR",
        "outputId": "02a255c9-aee9-4c22-8648-fbc3d98f92b7"
      },
      "execution_count": 336,
      "outputs": [
        {
          "output_type": "stream",
          "name": "stdout",
          "text": [
            "Error Cuadrático Medio (MSE) = 2298365610812348.0\n",
            "Raíz del Error Cuadrático Medio (RMSE) = 47941272.51974386\n"
          ]
        }
      ]
    }
  ]
}