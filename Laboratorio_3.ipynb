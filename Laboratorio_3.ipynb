{
  "cells": [
    {
      "cell_type": "markdown",
      "metadata": {
        "id": "view-in-github",
        "colab_type": "text"
      },
      "source": [
        "<a href=\"https://colab.research.google.com/github/NoeliaDuranL/SIS420/blob/main/Laboratorio_3.ipynb\" target=\"_parent\"><img src=\"https://colab.research.google.com/assets/colab-badge.svg\" alt=\"Open In Colab\"/></a>"
      ]
    },
    {
      "cell_type": "markdown",
      "source": [
        "# LABORATORIO 3 - Duran Llaveta Noelia Paola - G2\n",
        "Lo que se busca es predecir el tipo de violación de trafico que se ha cometido. Para eso se usa el dataset traffic violation que cuenta con 21 columnas de las cuales se usa 7 columnas sin contar la Y.\n",
        "\n",
        "Link del dataset: https://www.kaggle.com/datasets/nikhil1e9/traffic-violations\n",
        "\n",
        "Se usaron menos columnas de las esperadas puesto que el resto de datos no era relevante o los datos no se podian usar para la regresion logistica.\n",
        "\n",
        "La Y tiene tres tipo: **warning(1), citation(2) y SERO(3)**\n",
        "\n",
        "Después del procesamiento de datos se usa el dataframe **df_filtered**.\n",
        "\n",
        "Al final del entrenamiento se obtiene un **57% de precisión**.\n",
        "\n",
        "Link a github:"
      ],
      "metadata": {
        "id": "rPlUKLrYiVbN"
      }
    },
    {
      "cell_type": "code",
      "source": [
        "from google.colab import drive\n",
        "drive.mount('/content/drive')"
      ],
      "metadata": {
        "colab": {
          "base_uri": "https://localhost:8080/"
        },
        "id": "clyp4NcQycWP",
        "outputId": "2ffa7322-4875-420b-fe90-d50b4b1fbb4e"
      },
      "execution_count": 4,
      "outputs": [
        {
          "output_type": "stream",
          "name": "stdout",
          "text": [
            "Mounted at /content/drive\n"
          ]
        }
      ]
    },
    {
      "cell_type": "code",
      "source": [
        "# utilizado para la manipulación de directorios y rutas\n",
        "import os\n",
        "\n",
        "# Cálculo científico y vectorial para python\n",
        "import numpy as np\n",
        "\n",
        "# Libreria para graficos\n",
        "from matplotlib import pyplot\n",
        "\n",
        "# Modulo de optimizacion en scipy\n",
        "from scipy import optimize\n",
        "\n",
        "import pandas as pd\n",
        "\n",
        "# modulo para cargar archivos en formato MATLAB\n",
        "# from scipy.io import loadmat\n",
        "\n",
        "# le dice a matplotlib que incruste gráficos en el cuaderno\n",
        "%matplotlib inline"
      ],
      "metadata": {
        "id": "7RXNxSQic5xB"
      },
      "execution_count": 5,
      "outputs": []
    },
    {
      "cell_type": "code",
      "source": [
        "# Leer datos\n",
        "df = pd.read_csv('/content/drive/MyDrive/SIS420/datasets/traffic_violations.csv', delimiter=',')"
      ],
      "metadata": {
        "id": "OE9xt65mc5uX"
      },
      "execution_count": 6,
      "outputs": []
    },
    {
      "cell_type": "markdown",
      "source": [
        "# 1. Procesamiento de datos"
      ],
      "metadata": {
        "id": "uOeaP3msj5h_"
      }
    },
    {
      "cell_type": "code",
      "source": [
        "# Seleccionar solo las columnas requeridas\n",
        "df_subset = df[['Belts', 'Personal.Injury', 'Property.Damage', 'Commercial.License', 'Commercial.Vehicle',\n",
        "                'Year', 'Contributed.To.Accident', 'Gender', 'Violation.Type']]\n",
        "\n",
        "# Mostrar las primeras filas del dataframe resultante\n",
        "print(df_subset.head())"
      ],
      "metadata": {
        "colab": {
          "base_uri": "https://localhost:8080/"
        },
        "id": "Qu5v49UQc5rw",
        "outputId": "5e8303b3-4a2f-4a96-a65d-7f2fb49781fc"
      },
      "execution_count": 7,
      "outputs": [
        {
          "output_type": "stream",
          "name": "stdout",
          "text": [
            "  Belts Personal.Injury Property.Damage Commercial.License Commercial.Vehicle  \\\n",
            "0    No              No              No                 No                 No   \n",
            "1    No              No              No                 No                 No   \n",
            "2    No              No              No                 No                 No   \n",
            "3    No              No              No                 No                 No   \n",
            "4    No              No              No                Yes                 No   \n",
            "\n",
            "     Year Contributed.To.Accident Gender Violation.Type  \n",
            "0  2013.0                      No      F       Citation  \n",
            "1  2015.0                      No      M       Citation  \n",
            "2  2000.0                      No      M       Citation  \n",
            "3  2012.0                      No      M       Citation  \n",
            "4  2010.0                      No      M       Citation  \n"
          ]
        }
      ]
    },
    {
      "cell_type": "code",
      "source": [
        "# Obtener los tres tipos de violación con más ocurrencias\n",
        "top_violations = df_subset['Violation.Type'].value_counts().head(3)\n",
        "\n",
        "# Mostrar los resultados\n",
        "print(\"Los tres tipos de violación con más ocurrencias son:\")\n",
        "print(top_violations)"
      ],
      "metadata": {
        "colab": {
          "base_uri": "https://localhost:8080/"
        },
        "id": "TJucXakXc5pP",
        "outputId": "943c7e6f-e1af-498a-d893-5afb422fed9d"
      },
      "execution_count": 8,
      "outputs": [
        {
          "output_type": "stream",
          "name": "stdout",
          "text": [
            "Los tres tipos de violación con más ocurrencias son:\n",
            "Warning     34382\n",
            "Citation    32452\n",
            "SERO         3506\n",
            "Name: Violation.Type, dtype: int64\n"
          ]
        }
      ]
    },
    {
      "cell_type": "code",
      "source": [
        "# Reemplazar 'no' con 0 y 'si' con 1 en la columna 'Belts'\n",
        "df_subset['Belts'] = df_subset['Belts'].replace({'No': 0, 'Yes': 1})\n",
        "\n",
        "# Mostrar las primeras filas del dataframe con la columna 'Belts' modificada\n",
        "print(df_subset.head())\n"
      ],
      "metadata": {
        "colab": {
          "base_uri": "https://localhost:8080/"
        },
        "id": "3HzwxT4Fc5mX",
        "outputId": "ed7aaf99-6598-48ee-8568-ac6d84c1b899"
      },
      "execution_count": 9,
      "outputs": [
        {
          "output_type": "stream",
          "name": "stdout",
          "text": [
            "   Belts Personal.Injury Property.Damage Commercial.License  \\\n",
            "0      0              No              No                 No   \n",
            "1      0              No              No                 No   \n",
            "2      0              No              No                 No   \n",
            "3      0              No              No                 No   \n",
            "4      0              No              No                Yes   \n",
            "\n",
            "  Commercial.Vehicle    Year Contributed.To.Accident Gender Violation.Type  \n",
            "0                 No  2013.0                      No      F       Citation  \n",
            "1                 No  2015.0                      No      M       Citation  \n",
            "2                 No  2000.0                      No      M       Citation  \n",
            "3                 No  2012.0                      No      M       Citation  \n",
            "4                 No  2010.0                      No      M       Citation  \n"
          ]
        },
        {
          "output_type": "stream",
          "name": "stderr",
          "text": [
            "<ipython-input-9-25faa9d2c1ac>:2: SettingWithCopyWarning: \n",
            "A value is trying to be set on a copy of a slice from a DataFrame.\n",
            "Try using .loc[row_indexer,col_indexer] = value instead\n",
            "\n",
            "See the caveats in the documentation: https://pandas.pydata.org/pandas-docs/stable/user_guide/indexing.html#returning-a-view-versus-a-copy\n",
            "  df_subset['Belts'] = df_subset['Belts'].replace({'No': 0, 'Yes': 1})\n"
          ]
        }
      ]
    },
    {
      "cell_type": "code",
      "source": [
        "# Reemplazar valores en las columnas correspondientes\n",
        "columns_to_replace = ['Personal.Injury', 'Property.Damage', 'Commercial.License', 'Commercial.Vehicle', 'Contributed.To.Accident']\n",
        "\n",
        "for column in columns_to_replace:\n",
        "    df_subset[column] = df_subset[column].replace({'No': 0, 'Yes': 1})\n",
        "\n",
        "# Mostrar las primeras filas del dataframe con las columnas modificadas\n",
        "print(df_subset.head())\n"
      ],
      "metadata": {
        "colab": {
          "base_uri": "https://localhost:8080/"
        },
        "id": "LzcUQDgsc5hH",
        "outputId": "b1c8cc54-8b56-45d9-c5e2-ab07073ee9ad"
      },
      "execution_count": 10,
      "outputs": [
        {
          "output_type": "stream",
          "name": "stderr",
          "text": [
            "<ipython-input-10-666a4796fba6>:5: SettingWithCopyWarning: \n",
            "A value is trying to be set on a copy of a slice from a DataFrame.\n",
            "Try using .loc[row_indexer,col_indexer] = value instead\n",
            "\n",
            "See the caveats in the documentation: https://pandas.pydata.org/pandas-docs/stable/user_guide/indexing.html#returning-a-view-versus-a-copy\n",
            "  df_subset[column] = df_subset[column].replace({'No': 0, 'Yes': 1})\n"
          ]
        },
        {
          "output_type": "stream",
          "name": "stdout",
          "text": [
            "   Belts  Personal.Injury  Property.Damage  Commercial.License  \\\n",
            "0      0                0                0                   0   \n",
            "1      0                0                0                   0   \n",
            "2      0                0                0                   0   \n",
            "3      0                0                0                   0   \n",
            "4      0                0                0                   1   \n",
            "\n",
            "   Commercial.Vehicle    Year  Contributed.To.Accident Gender Violation.Type  \n",
            "0                   0  2013.0                        0      F       Citation  \n",
            "1                   0  2015.0                        0      M       Citation  \n",
            "2                   0  2000.0                        0      M       Citation  \n",
            "3                   0  2012.0                        0      M       Citation  \n",
            "4                   0  2010.0                        0      M       Citation  \n"
          ]
        }
      ]
    },
    {
      "cell_type": "code",
      "source": [
        "# Reemplazar en Gender, F=0 y M=1\n",
        "df_subset['Gender'] = df_subset['Gender'].replace({'F': 0, 'M': 1})\n",
        "\n",
        "# Mostrar las primeras filas del dataframe modificada\n",
        "print(df_subset.head())\n"
      ],
      "metadata": {
        "colab": {
          "base_uri": "https://localhost:8080/"
        },
        "id": "1UFJQ2GIc5eI",
        "outputId": "00aabb6c-7983-463c-b012-60bb0835ffd7"
      },
      "execution_count": 11,
      "outputs": [
        {
          "output_type": "stream",
          "name": "stdout",
          "text": [
            "   Belts  Personal.Injury  Property.Damage  Commercial.License  \\\n",
            "0      0                0                0                   0   \n",
            "1      0                0                0                   0   \n",
            "2      0                0                0                   0   \n",
            "3      0                0                0                   0   \n",
            "4      0                0                0                   1   \n",
            "\n",
            "   Commercial.Vehicle    Year  Contributed.To.Accident Gender Violation.Type  \n",
            "0                   0  2013.0                        0      0       Citation  \n",
            "1                   0  2015.0                        0      1       Citation  \n",
            "2                   0  2000.0                        0      1       Citation  \n",
            "3                   0  2012.0                        0      1       Citation  \n",
            "4                   0  2010.0                        0      1       Citation  \n"
          ]
        },
        {
          "output_type": "stream",
          "name": "stderr",
          "text": [
            "<ipython-input-11-84bc3cf58472>:2: SettingWithCopyWarning: \n",
            "A value is trying to be set on a copy of a slice from a DataFrame.\n",
            "Try using .loc[row_indexer,col_indexer] = value instead\n",
            "\n",
            "See the caveats in the documentation: https://pandas.pydata.org/pandas-docs/stable/user_guide/indexing.html#returning-a-view-versus-a-copy\n",
            "  df_subset['Gender'] = df_subset['Gender'].replace({'F': 0, 'M': 1})\n"
          ]
        }
      ]
    },
    {
      "cell_type": "code",
      "source": [
        "# Obtener la cantidad de datos de cada columna\n",
        "cantidad_datos_por_columna = df_subset.count()\n",
        "\n",
        "# Mostrar la cantidad de datos de cada columna\n",
        "print(\"Cantidad de datos por columna:\")\n",
        "print(cantidad_datos_por_columna)\n"
      ],
      "metadata": {
        "colab": {
          "base_uri": "https://localhost:8080/"
        },
        "id": "s_AOXQdNgJWR",
        "outputId": "3f0310eb-dfa5-48c9-9808-361eef36f815"
      },
      "execution_count": 12,
      "outputs": [
        {
          "output_type": "stream",
          "name": "stdout",
          "text": [
            "Cantidad de datos por columna:\n",
            "Belts                      70340\n",
            "Personal.Injury            70340\n",
            "Property.Damage            70340\n",
            "Commercial.License         70340\n",
            "Commercial.Vehicle         70340\n",
            "Year                       69906\n",
            "Contributed.To.Accident    70340\n",
            "Gender                     70340\n",
            "Violation.Type             70340\n",
            "dtype: int64\n"
          ]
        }
      ]
    },
    {
      "cell_type": "code",
      "source": [
        "# Obtener la cantidad de valores nulos en cada columna\n",
        "valores_nulos_por_columna = df_subset.isnull().sum()\n",
        "\n",
        "# Mostrar la cantidad de valores nulos en cada columna\n",
        "print(\"Cantidad de valores nulos por columna:\")\n",
        "print(valores_nulos_por_columna)\n"
      ],
      "metadata": {
        "colab": {
          "base_uri": "https://localhost:8080/"
        },
        "id": "wXurOAfHgJZQ",
        "outputId": "b4872f28-a848-4077-c973-d2dc670da2ba"
      },
      "execution_count": 13,
      "outputs": [
        {
          "output_type": "stream",
          "name": "stdout",
          "text": [
            "Cantidad de valores nulos por columna:\n",
            "Belts                        0\n",
            "Personal.Injury              0\n",
            "Property.Damage              0\n",
            "Commercial.License           0\n",
            "Commercial.Vehicle           0\n",
            "Year                       434\n",
            "Contributed.To.Accident      0\n",
            "Gender                       0\n",
            "Violation.Type               0\n",
            "dtype: int64\n"
          ]
        }
      ]
    },
    {
      "cell_type": "code",
      "source": [
        "# Eliminar la columna 'Year' del dataframe\n",
        "df_subset = df_subset.drop(columns=['Year'])\n",
        "\n",
        "# Mostrar las primeras filas del dataframe actualizado\n",
        "print(df_subset.head())\n"
      ],
      "metadata": {
        "colab": {
          "base_uri": "https://localhost:8080/"
        },
        "id": "oS0dwW-wgJb3",
        "outputId": "4dc06f4e-1ff0-4910-a303-31efd155584c"
      },
      "execution_count": 14,
      "outputs": [
        {
          "output_type": "stream",
          "name": "stdout",
          "text": [
            "   Belts  Personal.Injury  Property.Damage  Commercial.License  \\\n",
            "0      0                0                0                   0   \n",
            "1      0                0                0                   0   \n",
            "2      0                0                0                   0   \n",
            "3      0                0                0                   0   \n",
            "4      0                0                0                   1   \n",
            "\n",
            "   Commercial.Vehicle  Contributed.To.Accident Gender Violation.Type  \n",
            "0                   0                        0      0       Citation  \n",
            "1                   0                        0      1       Citation  \n",
            "2                   0                        0      1       Citation  \n",
            "3                   0                        0      1       Citation  \n",
            "4                   0                        0      1       Citation  \n"
          ]
        }
      ]
    },
    {
      "cell_type": "code",
      "source": [
        "# Filtrar el dataframe para incluir solo las filas con los tres tipos de violación especificados\n",
        "violation_types_to_keep = ['Warning', 'Citation', 'SERO']\n",
        "df_filtered = df_subset[df_subset['Violation.Type'].isin(violation_types_to_keep)]\n",
        "\n",
        "# Mostrar las primeras filas del dataframe filtrado\n",
        "print(df_filtered.head())\n"
      ],
      "metadata": {
        "colab": {
          "base_uri": "https://localhost:8080/"
        },
        "id": "yCAdMoArgJeh",
        "outputId": "96d6476c-b83d-4a1e-9293-66a0bc31b37a"
      },
      "execution_count": 15,
      "outputs": [
        {
          "output_type": "stream",
          "name": "stdout",
          "text": [
            "   Belts  Personal.Injury  Property.Damage  Commercial.License  \\\n",
            "0      0                0                0                   0   \n",
            "1      0                0                0                   0   \n",
            "2      0                0                0                   0   \n",
            "3      0                0                0                   0   \n",
            "4      0                0                0                   1   \n",
            "\n",
            "   Commercial.Vehicle  Contributed.To.Accident Gender Violation.Type  \n",
            "0                   0                        0      0       Citation  \n",
            "1                   0                        0      1       Citation  \n",
            "2                   0                        0      1       Citation  \n",
            "3                   0                        0      1       Citation  \n",
            "4                   0                        0      1       Citation  \n"
          ]
        }
      ]
    },
    {
      "cell_type": "code",
      "source": [
        "# Obtener la cantidad de datos de cada columna en el dataframe filtrado\n",
        "cantidad_datos_por_columna_filtrado = df_filtered.count()\n",
        "\n",
        "# Mostrar la cantidad de datos de cada columna en el dataframe filtrado\n",
        "print(\"Cantidad de datos por columna en el dataframe filtrado:\")\n",
        "print(cantidad_datos_por_columna_filtrado)\n"
      ],
      "metadata": {
        "colab": {
          "base_uri": "https://localhost:8080/"
        },
        "id": "UQQsDvsfgJhA",
        "outputId": "76708580-66a1-44b9-b2fd-2366ee888f3d"
      },
      "execution_count": 16,
      "outputs": [
        {
          "output_type": "stream",
          "name": "stdout",
          "text": [
            "Cantidad de datos por columna en el dataframe filtrado:\n",
            "Belts                      70340\n",
            "Personal.Injury            70340\n",
            "Property.Damage            70340\n",
            "Commercial.License         70340\n",
            "Commercial.Vehicle         70340\n",
            "Contributed.To.Accident    70340\n",
            "Gender                     70340\n",
            "Violation.Type             70340\n",
            "dtype: int64\n"
          ]
        }
      ]
    },
    {
      "cell_type": "code",
      "source": [
        "# Obtener los valores únicos en la columna 'Violation.Type'\n",
        "valores_unicos_violation_type = df_filtered['Violation.Type'].unique()\n",
        "\n",
        "# Mostrar los valores únicos en la columna 'Violation.Type'\n",
        "print(\"Valores únicos en la columna 'Violation.Type':\")\n",
        "print(valores_unicos_violation_type)\n"
      ],
      "metadata": {
        "colab": {
          "base_uri": "https://localhost:8080/"
        },
        "id": "95oMo6BbgJjK",
        "outputId": "c43e8066-41d1-488c-a5d8-f51d3db1be0f"
      },
      "execution_count": 17,
      "outputs": [
        {
          "output_type": "stream",
          "name": "stdout",
          "text": [
            "Valores únicos en la columna 'Violation.Type':\n",
            "['Citation' 'SERO' 'Warning']\n"
          ]
        }
      ]
    },
    {
      "cell_type": "code",
      "source": [
        "# Mapear los valores de 'Violation.Type' a valores numéricos\n",
        "mapping = {'Warning': 1, 'Citation': 2, 'SERO': 3}\n",
        "df_filtered['Violation.Type'] = df_filtered['Violation.Type'].replace(mapping)\n",
        "\n",
        "# Mostrar las primeras filas del dataframe con los valores de 'Violation.Type' modificados\n",
        "print(df_filtered.head())\n"
      ],
      "metadata": {
        "colab": {
          "base_uri": "https://localhost:8080/"
        },
        "id": "wOS-0oediXOH",
        "outputId": "5c4929fb-d0af-413d-9e9e-28c9dc83e66e"
      },
      "execution_count": 18,
      "outputs": [
        {
          "output_type": "stream",
          "name": "stdout",
          "text": [
            "   Belts  Personal.Injury  Property.Damage  Commercial.License  \\\n",
            "0      0                0                0                   0   \n",
            "1      0                0                0                   0   \n",
            "2      0                0                0                   0   \n",
            "3      0                0                0                   0   \n",
            "4      0                0                0                   1   \n",
            "\n",
            "   Commercial.Vehicle  Contributed.To.Accident Gender  Violation.Type  \n",
            "0                   0                        0      0               2  \n",
            "1                   0                        0      1               2  \n",
            "2                   0                        0      1               2  \n",
            "3                   0                        0      1               2  \n",
            "4                   0                        0      1               2  \n"
          ]
        }
      ]
    },
    {
      "cell_type": "code",
      "source": [
        "# Imprimir las primeras filas del dataframe\n",
        "print(\"Primeras filas del dataframe:\")\n",
        "print(df_filtered.head())\n",
        "\n",
        "# Verificar los tipos de datos en el dataframe\n",
        "print(\"\\nTipos de datos en el dataframe:\")\n",
        "print(df_filtered.dtypes)\n",
        "\n",
        "# Verificar si hay valores nulos en el dataframe\n",
        "print(\"\\nValores nulos en el dataframe:\")\n",
        "print(df_filtered.isnull().sum())\n"
      ],
      "metadata": {
        "colab": {
          "base_uri": "https://localhost:8080/"
        },
        "id": "SNQJDivqiXRP",
        "outputId": "0e027698-fe31-4be9-ed8c-ead6904724af"
      },
      "execution_count": 19,
      "outputs": [
        {
          "output_type": "stream",
          "name": "stdout",
          "text": [
            "Primeras filas del dataframe:\n",
            "   Belts  Personal.Injury  Property.Damage  Commercial.License  \\\n",
            "0      0                0                0                   0   \n",
            "1      0                0                0                   0   \n",
            "2      0                0                0                   0   \n",
            "3      0                0                0                   0   \n",
            "4      0                0                0                   1   \n",
            "\n",
            "   Commercial.Vehicle  Contributed.To.Accident Gender  Violation.Type  \n",
            "0                   0                        0      0               2  \n",
            "1                   0                        0      1               2  \n",
            "2                   0                        0      1               2  \n",
            "3                   0                        0      1               2  \n",
            "4                   0                        0      1               2  \n",
            "\n",
            "Tipos de datos en el dataframe:\n",
            "Belts                       int64\n",
            "Personal.Injury             int64\n",
            "Property.Damage             int64\n",
            "Commercial.License          int64\n",
            "Commercial.Vehicle          int64\n",
            "Contributed.To.Accident     int64\n",
            "Gender                     object\n",
            "Violation.Type              int64\n",
            "dtype: object\n",
            "\n",
            "Valores nulos en el dataframe:\n",
            "Belts                      0\n",
            "Personal.Injury            0\n",
            "Property.Damage            0\n",
            "Commercial.License         0\n",
            "Commercial.Vehicle         0\n",
            "Contributed.To.Accident    0\n",
            "Gender                     0\n",
            "Violation.Type             0\n",
            "dtype: int64\n"
          ]
        }
      ]
    },
    {
      "cell_type": "code",
      "source": [
        "# Verificar los valores únicos en la columna 'Gender'\n",
        "print(\"Valores únicos en la columna 'Gender':\")\n",
        "print(df_filtered['Gender'].unique())\n"
      ],
      "metadata": {
        "colab": {
          "base_uri": "https://localhost:8080/"
        },
        "id": "i74vms5Bn-cC",
        "outputId": "ce606f2a-ac17-4719-c989-6a06808487fe"
      },
      "execution_count": 20,
      "outputs": [
        {
          "output_type": "stream",
          "name": "stdout",
          "text": [
            "Valores únicos en la columna 'Gender':\n",
            "[0 1 'U']\n"
          ]
        }
      ]
    },
    {
      "cell_type": "code",
      "source": [
        "# Contar cuántos valores 'U' hay en la columna 'Gender'\n",
        "count_u = (df_filtered['Gender'] == 'U').sum()\n",
        "print(\"Cantidad de valores 'U' en la columna 'Gender':\", count_u)\n"
      ],
      "metadata": {
        "colab": {
          "base_uri": "https://localhost:8080/"
        },
        "id": "YycE3dHzn-Zw",
        "outputId": "a86a94cb-d9a2-419a-8fd1-602be67fd84e"
      },
      "execution_count": 21,
      "outputs": [
        {
          "output_type": "stream",
          "name": "stdout",
          "text": [
            "Cantidad de valores 'U' en la columna 'Gender': 90\n"
          ]
        }
      ]
    },
    {
      "cell_type": "code",
      "source": [
        "# Calcular la moda de la columna 'Gender' excluyendo los valores 'U'\n",
        "mode_gender = df_filtered[df_filtered['Gender'] != 'U']['Gender'].mode()[0]\n",
        "print(\"Moda de la columna 'Gender' (excluyendo 'U'):\", mode_gender)\n"
      ],
      "metadata": {
        "colab": {
          "base_uri": "https://localhost:8080/"
        },
        "id": "m0ojGyTFn-XC",
        "outputId": "e1060f09-8481-447f-9f30-82b2c1d66728"
      },
      "execution_count": 22,
      "outputs": [
        {
          "output_type": "stream",
          "name": "stdout",
          "text": [
            "Moda de la columna 'Gender' (excluyendo 'U'): 1\n"
          ]
        }
      ]
    },
    {
      "cell_type": "code",
      "source": [
        "# Convertir 'U' a 1 en la columna 'Gender'\n",
        "df_filtered['Gender'] = df_filtered['Gender'].replace({'U': 1})\n"
      ],
      "metadata": {
        "id": "xkeBX7oRpPer"
      },
      "execution_count": 23,
      "outputs": []
    },
    {
      "cell_type": "code",
      "source": [
        "# Imprimir las primeras filas del dataframe\n",
        "print(\"Primeras filas del dataframe:\")\n",
        "print(df_filtered.head())\n",
        "\n",
        "# Verificar los tipos de datos en el dataframe\n",
        "print(\"\\nTipos de datos en el dataframe:\")\n",
        "print(df_filtered.dtypes)\n",
        "\n",
        "# Verificar si hay valores nulos en el dataframe\n",
        "print(\"\\nValores nulos en el dataframe:\")\n",
        "print(df_filtered.isnull().sum())\n"
      ],
      "metadata": {
        "colab": {
          "base_uri": "https://localhost:8080/"
        },
        "id": "FJ1tbO6ipTYG",
        "outputId": "9616235a-cbaf-4cac-affe-e55c09bceec3"
      },
      "execution_count": 24,
      "outputs": [
        {
          "output_type": "stream",
          "name": "stdout",
          "text": [
            "Primeras filas del dataframe:\n",
            "   Belts  Personal.Injury  Property.Damage  Commercial.License  \\\n",
            "0      0                0                0                   0   \n",
            "1      0                0                0                   0   \n",
            "2      0                0                0                   0   \n",
            "3      0                0                0                   0   \n",
            "4      0                0                0                   1   \n",
            "\n",
            "   Commercial.Vehicle  Contributed.To.Accident  Gender  Violation.Type  \n",
            "0                   0                        0       0               2  \n",
            "1                   0                        0       1               2  \n",
            "2                   0                        0       1               2  \n",
            "3                   0                        0       1               2  \n",
            "4                   0                        0       1               2  \n",
            "\n",
            "Tipos de datos en el dataframe:\n",
            "Belts                      int64\n",
            "Personal.Injury            int64\n",
            "Property.Damage            int64\n",
            "Commercial.License         int64\n",
            "Commercial.Vehicle         int64\n",
            "Contributed.To.Accident    int64\n",
            "Gender                     int64\n",
            "Violation.Type             int64\n",
            "dtype: object\n",
            "\n",
            "Valores nulos en el dataframe:\n",
            "Belts                      0\n",
            "Personal.Injury            0\n",
            "Property.Damage            0\n",
            "Commercial.License         0\n",
            "Commercial.Vehicle         0\n",
            "Contributed.To.Accident    0\n",
            "Gender                     0\n",
            "Violation.Type             0\n",
            "dtype: int64\n"
          ]
        }
      ]
    },
    {
      "cell_type": "markdown",
      "source": [
        "\n",
        "# Clasificación multiclase"
      ],
      "metadata": {
        "id": "hFyPDcYqkJt4"
      }
    },
    {
      "cell_type": "code",
      "execution_count": 25,
      "metadata": {
        "id": "hhRjL2ptSxgK",
        "colab": {
          "base_uri": "https://localhost:8080/"
        },
        "outputId": "ddad15d1-3f40-4608-d46e-870feeb05a46"
      },
      "outputs": [
        {
          "output_type": "stream",
          "name": "stdout",
          "text": [
            "Datos de entrenamiento:\n",
            "[[0 0 0 ... 0 0 0]\n",
            " [0 0 0 ... 0 0 1]\n",
            " [0 0 0 ... 0 0 1]\n",
            " ...\n",
            " [0 0 0 ... 0 0 1]\n",
            " [0 0 0 ... 0 0 0]\n",
            " [0 0 0 ... 0 0 1]]\n",
            "[2 2 2 ... 1 1 1]\n",
            "Datos de prueba:\n",
            "[[0 0 0 ... 0 0 1]\n",
            " [0 0 0 ... 0 0 1]\n",
            " [0 0 0 ... 0 0 0]\n",
            " ...\n",
            " [0 0 0 ... 0 0 0]\n",
            " [0 0 0 ... 0 0 0]\n",
            " [0 0 0 ... 0 0 0]]\n",
            "[1 1 1 ... 1 1 1]\n"
          ]
        }
      ],
      "source": [
        "# La entrada es de 7 elemento contando con x0\n",
        "input_layer_size  = 7\n",
        "\n",
        "# 10 etiquetas, de 1 a 10 (tomar en cuenta que se asigna \"0\" a la etiqueta 10)\n",
        "num_labels = 3\n",
        "\n",
        "# columnas relevantes para X\n",
        "features = ['Belts', 'Personal.Injury', 'Property.Damage', 'Commercial.License', 'Commercial.Vehicle', 'Contributed.To.Accident', 'Gender']\n",
        "X = df_filtered[features].values\n",
        "\n",
        "# Phising' para y\n",
        "y = df_filtered['Violation.Type'].values\n",
        "\n",
        "# Dividir los datos en entrenamiento y prueba (80% entrenamiento, 20% prueba)\n",
        "train_size = int(0.8 * len(df_filtered))\n",
        "X_train, y_train = X[:train_size], y[:train_size]\n",
        "X_test, y_test = X[train_size:], y[train_size:]\n",
        "\n",
        "# Asignar X_train y y_train a X y y respectivamente\n",
        "X = X_train\n",
        "y = y_train\n",
        "m_train = len(y_train)\n",
        "\n",
        "# Imprimir los datos de entrenamiento y prueba\n",
        "print(\"Datos de entrenamiento:\")\n",
        "print(X_train)\n",
        "print(y_train)\n",
        "print(\"Datos de prueba:\")\n",
        "print(X_test)\n",
        "print(y_test)\n",
        "\n",
        "\n",
        "m = y.size"
      ]
    },
    {
      "cell_type": "code",
      "execution_count": 26,
      "metadata": {
        "id": "aw2yVc8ESxgL",
        "outputId": "ecd00797-87bd-4b4f-97e9-7f9a4639cc94",
        "colab": {
          "base_uri": "https://localhost:8080/"
        }
      },
      "outputs": [
        {
          "output_type": "stream",
          "name": "stdout",
          "text": [
            "Primera fila de características X:\n",
            "[0 0 0 0 0 0 0]\n",
            "Vector de etiquetas y:\n",
            "[2 2 2 ... 1 1 1]\n"
          ]
        }
      ],
      "source": [
        "# Imprimir la primera fila de características X y el vector de etiquetas y\n",
        "print(\"Primera fila de características X:\")\n",
        "print(X[0, :])\n",
        "print(\"Vector de etiquetas y:\")\n",
        "print(y)\n"
      ]
    },
    {
      "cell_type": "markdown",
      "source": [
        "# Normalización de datos"
      ],
      "metadata": {
        "id": "xemlWYuQkaIa"
      }
    },
    {
      "cell_type": "code",
      "source": [
        "def  featureNormalize(X):\n",
        "    X_norm = X.copy()\n",
        "    mu = np.zeros(X.shape[1])\n",
        "    sigma = np.zeros(X.shape[1])\n",
        "\n",
        "    mu = np.mean(X, axis = 0)\n",
        "    sigma = np.std(X, axis = 0)\n",
        "    X_norm = (X - mu) / sigma\n",
        "\n",
        "    return X_norm, mu, sigma"
      ],
      "metadata": {
        "id": "HWF5C5Jt8wNb"
      },
      "execution_count": 27,
      "outputs": []
    },
    {
      "cell_type": "code",
      "source": [
        "# llama featureNormalize con los datos cargados\n",
        "X_norm, mu, sigma = featureNormalize(X)"
      ],
      "metadata": {
        "id": "f4W6d-ya1ABV"
      },
      "execution_count": 28,
      "outputs": []
    },
    {
      "cell_type": "code",
      "source": [
        "# Configurar la matriz adecuadamente, y agregar una columna de unos que corresponde al termino de intercepción.\n",
        "m, n = X.shape\n",
        "\n",
        "X = X_norm\n"
      ],
      "metadata": {
        "id": "r9e6MRrW1G22"
      },
      "execution_count": 29,
      "outputs": []
    },
    {
      "cell_type": "markdown",
      "source": [
        "# Vectorización de la función de costo"
      ],
      "metadata": {
        "id": "rAFr5Z13kjOP"
      }
    },
    {
      "cell_type": "code",
      "execution_count": 30,
      "metadata": {
        "id": "0sB9Kyi8SxgN"
      },
      "outputs": [],
      "source": [
        "def sigmoid(z):\n",
        "    \"\"\"\n",
        "    Calcula la sigmoide de z.\n",
        "    \"\"\"\n",
        "    return 1.0 / (1.0 + np.exp(-z))"
      ]
    },
    {
      "cell_type": "code",
      "execution_count": 31,
      "metadata": {
        "id": "w5S0OOswSxgN"
      },
      "outputs": [],
      "source": [
        "def lrCostFunction(theta, X, y, lambda_):\n",
        "\n",
        "    # Inicializa algunos valores utiles\n",
        "    m = y.size\n",
        "\n",
        "    # convierte las etiquetas a valores enteros si son boleanos\n",
        "    if y.dtype == bool:\n",
        "        y = y.astype(int)\n",
        "\n",
        "    J = 0\n",
        "    grad = np.zeros(theta.shape)\n",
        "\n",
        "    h = sigmoid(X.dot(theta.T))\n",
        "\n",
        "    temp = theta\n",
        "    temp[0] = 0\n",
        "\n",
        "#     J = (1 / m) * np.sum(-y.dot(np.log(h)) - (1 - y).dot(np.log(1 - h)))\n",
        "    J = (1 / m) * np.sum(-y.dot(np.log(h)) - (1 - y).dot(np.log(1 - h))) + (lambda_ / (2 * m)) * np.sum(np.square(temp))\n",
        "\n",
        "    grad = (1 / m) * (h - y).dot(X)\n",
        "#     theta = theta - (alpha / m) * (h - y).dot(X)\n",
        "    grad = grad + (lambda_ / m) * temp\n",
        "\n",
        "    return J, grad\n",
        "#    return J, theta"
      ]
    },
    {
      "cell_type": "markdown",
      "metadata": {
        "id": "Rlk-Z2p-SxgN"
      },
      "source": [
        "\n",
        "# Clasificacion One-vs-all\n"
      ]
    },
    {
      "cell_type": "code",
      "execution_count": 32,
      "metadata": {
        "id": "V0rOw5qhSxgN"
      },
      "outputs": [],
      "source": [
        "def oneVsAll(X, y, num_labels, lambda_):\n",
        "\n",
        "    # algunas variables utiles\n",
        "    m, n = X.shape\n",
        "\n",
        "    all_theta = np.zeros((num_labels, n + 1))\n",
        "\n",
        "    # Agrega unos a la matriz X\n",
        "    X = np.concatenate([np.ones((m, 1)), X], axis=1)\n",
        "\n",
        "    for c in np.arange(num_labels):\n",
        "        initial_theta = np.zeros(n + 1)\n",
        "        options = {'maxiter': 50}\n",
        "        res = optimize.minimize(lrCostFunction,\n",
        "                                initial_theta,\n",
        "                                (X, (y == c), lambda_),\n",
        "                                jac=True,\n",
        "                                method='CG',\n",
        "                                options=options)\n",
        "\n",
        "        all_theta[c] = res.x\n",
        "\n",
        "    return all_theta"
      ]
    },
    {
      "cell_type": "code",
      "execution_count": 33,
      "metadata": {
        "id": "w6JbsLLMSxgO",
        "outputId": "e8653c88-c7a5-4298-a5e0-3057c25b2224",
        "colab": {
          "base_uri": "https://localhost:8080/"
        }
      },
      "outputs": [
        {
          "output_type": "stream",
          "name": "stdout",
          "text": [
            "(3, 8)\n"
          ]
        }
      ],
      "source": [
        "lambda_ = 0.1\n",
        "all_theta = oneVsAll(X, y, num_labels, lambda_)\n",
        "print(all_theta.shape)"
      ]
    },
    {
      "cell_type": "code",
      "source": [
        "print(all_theta)"
      ],
      "metadata": {
        "colab": {
          "base_uri": "https://localhost:8080/"
        },
        "id": "V1EfKaiEgtcw",
        "outputId": "9ba58001-a6a0-44a0-ab43-d32b8c9b6d5d"
      },
      "execution_count": 34,
      "outputs": [
        {
          "output_type": "stream",
          "name": "stdout",
          "text": [
            "[[-1.24380805e+01  2.11849858e-15  2.08859577e-15  1.17485827e-15\n",
            "   4.86422421e-16  3.28996475e-16  5.07928666e-15  1.41367903e-15]\n",
            " [-6.37866148e-01 -5.22099769e-02 -2.89228575e-01 -3.06762870e-01\n",
            "  -2.68678633e-02  4.01663216e-02 -2.76492054e-01 -1.51601779e-01]\n",
            " [ 3.76941120e-01  5.49243859e-02  3.06798468e-01  3.36952225e-01\n",
            "   2.01436774e-02 -5.43082610e-02  3.04176557e-01  1.41200567e-01]]\n"
          ]
        }
      ]
    },
    {
      "cell_type": "code",
      "execution_count": 35,
      "metadata": {
        "id": "PjFoFe1bSxgO"
      },
      "outputs": [],
      "source": [
        "def predictOneVsAll(all_theta, X):\n",
        "\n",
        "\n",
        "    m = X.shape[0];\n",
        "    num_labels = all_theta.shape[0]\n",
        "\n",
        "    p = np.zeros(m)\n",
        "\n",
        "    # Add ones to the X data matrix\n",
        "    X = np.concatenate([np.ones((m, 1)), X], axis=1)\n",
        "    p = np.argmax(sigmoid(X.dot(all_theta.T)), axis = 1)\n",
        "\n",
        "    return p"
      ]
    },
    {
      "cell_type": "code",
      "execution_count": 36,
      "metadata": {
        "id": "mE7v5cglSxgO",
        "outputId": "769209c6-4404-48fd-84a7-991534f48d81",
        "colab": {
          "base_uri": "https://localhost:8080/"
        }
      },
      "outputs": [
        {
          "output_type": "stream",
          "name": "stdout",
          "text": [
            "Forma de los datos de entrenamiento: (56272, 7)\n",
            "Precisión del conjunto de entrenamiento: 57.67%\n",
            "Forma del subconjunto de datos de prueba: (140, 7)\n",
            "Forma de los datos de prueba con sesgo: (140, 8)\n",
            "Predicciones para el subconjunto de datos de prueba: [2 2 2 2 2 2 2 2 2 2 2 2 2 2 2 2 2 2 2 2 2 2 2 2 2 2 2 2 2 2 2 2 2 2 2 2 2\n",
            " 2 2 2 2 2 2 2 2 2 2 2 2 2 2 2 2 2 2 2 2 2 2 2 2 2 2 2 2 2 2 2 2 2 2 2 2 2\n",
            " 2 2 2 2 2 2 2 2 2 2 2 2 2 2 2 2 2 2 2 2 2 2 2 2 2 2 2 2 2 2 2 2 2 2 2 2 2\n",
            " 2 2 2 2 2 2 2 2 2 2 2 2 2 2 2 2 2 2 2 2 2 2 2 2 2 2 2 2 2]\n",
            "Etiquetas reales del subconjunto de datos de prueba: [1 1 1 1 1 1 1 1 1 1 1 1 1 1 1 1 1 1 1 1 1 1 1 1 1 1 1 1 1 1 1 1 1 1 1 1 1\n",
            " 1 1 1 1 1 1 1 1 1 1 1 1 1 1 1 1 1 1 1 1 1 1 1 1 1 1 1 1 1 1 1 1 1 1 1 1 1\n",
            " 1 1 1 1 1 1 1 1 1 1 1 1 1 1 1 1 1 1 1 1 1 1 1 1 1 1 1 1 1 1 1 1 1 1 1 1 1\n",
            " 1 1 1 1 1 1 1 1 1 1 1 1 1 1 1 1 1 1 1 1 1 1 1 1 1 1 1 1 1]\n"
          ]
        }
      ],
      "source": [
        "# Imprime la forma de tus datos de entrenamiento\n",
        "print(\"Forma de los datos de entrenamiento:\", X_train.shape)\n",
        "\n",
        "# Predice las etiquetas para tus datos de entrenamiento utilizando el clasificador entrenado\n",
        "pred_train = predictOneVsAll(all_theta, X_train)\n",
        "\n",
        "# Calcula la precisión del conjunto de entrenamiento comparando las predicciones con las etiquetas reales\n",
        "accuracy_train = np.mean(pred_train == y_train) * 100\n",
        "print('Precisión del conjunto de entrenamiento: {:.2f}%'.format(accuracy_train))\n",
        "\n",
        "# Selecciona un subconjunto de tus datos de prueba\n",
        "X_test_subset = X_test[10:150, :].copy()\n",
        "print(\"Forma del subconjunto de datos de prueba:\", X_test_subset.shape)\n",
        "\n",
        "# Agrega una columna adicional para el término de sesgo a tus datos de prueba\n",
        "X_test_subset = np.concatenate([np.ones((140, 1)), X_test_subset], axis=1)\n",
        "print(\"Forma de los datos de prueba con sesgo:\", X_test_subset.shape)\n",
        "\n",
        "# Predice las etiquetas para el subconjunto de datos de prueba utilizando el clasificador entrenado\n",
        "pred_test_subset = np.argmax(sigmoid(X_test_subset.dot(all_theta.T)), axis=1)\n",
        "print(\"Predicciones para el subconjunto de datos de prueba:\", pred_test_subset)\n",
        "\n",
        "# Imprime las etiquetas reales del subconjunto de datos de prueba\n",
        "print(\"Etiquetas reales del subconjunto de datos de prueba:\", y_test[10:150])\n",
        "\n"
      ]
    }
  ],
  "metadata": {
    "kernelspec": {
      "display_name": "Python 3",
      "language": "python",
      "name": "python3"
    },
    "language_info": {
      "codemirror_mode": {
        "name": "ipython",
        "version": 3
      },
      "file_extension": ".py",
      "mimetype": "text/x-python",
      "name": "python",
      "nbconvert_exporter": "python",
      "pygments_lexer": "ipython3",
      "version": "3.8.5"
    },
    "colab": {
      "provenance": [],
      "collapsed_sections": [
        "uOeaP3msj5h_"
      ],
      "include_colab_link": true
    }
  },
  "nbformat": 4,
  "nbformat_minor": 0
}